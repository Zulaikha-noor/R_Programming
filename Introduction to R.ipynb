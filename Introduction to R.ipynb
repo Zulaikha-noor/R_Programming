{
 "cells": [
  {
   "cell_type": "markdown",
   "metadata": {},
   "source": [
    "# Course - Introduction to R "
   ]
  },
  {
   "cell_type": "markdown",
   "metadata": {},
   "source": [
    "##### NOTE: \n",
    "1. Your code MUST execute without any errors. \n",
    "2. You can add more lines in your code as required."
   ]
  },
  {
   "cell_type": "markdown",
   "metadata": {},
   "source": [
    "## Section 1: Data Types and Operations Pt. 1"
   ]
  },
  {
   "cell_type": "markdown",
   "metadata": {},
   "source": [
    "### Question 1 \n",
    "**Create the variables with the following composition:**\n",
    "1. A vector containing each letter of your first name as its elements.\n",
    "2. A variable that contains your name concatenated from the vector created in (1)\n",
    "3. A variable containing a sequence from 100 to 120.\n",
    "4. Create a matrix of 3x3 dimensions that contains the even sequence of numbers starting from 2.\n",
    "5. Assign names to the variables."
   ]
  },
  {
   "cell_type": "code",
   "execution_count": null,
   "metadata": {},
   "outputs": [],
   "source": [
    "#### Start solution ####"
   ]
  },
  {
   "cell_type": "code",
   "execution_count": 2,
   "metadata": {},
   "outputs": [
    {
     "name": "stdout",
     "output_type": "stream",
     "text": [
      "[1] \"z\" \"u\" \"l\" \"a\" \"i\" \"k\" \"h\" \"a\"\n"
     ]
    }
   ],
   "source": [
    "myname <- c(\"z\",\"u\",\"l\",\"a\",\"i\",\"k\",\"h\",\"a\")\n",
    "print(myname)"
   ]
  },
  {
   "cell_type": "code",
   "execution_count": 3,
   "metadata": {},
   "outputs": [
    {
     "name": "stdout",
     "output_type": "stream",
     "text": [
      "[1] \"zulaikha\"\n"
     ]
    }
   ],
   "source": [
    "print(paste(myname , collapse=\"\"))"
   ]
  },
  {
   "cell_type": "code",
   "execution_count": 6,
   "metadata": {},
   "outputs": [
    {
     "data": {
      "text/html": [
       "<ol class=list-inline>\n",
       "\t<li>100</li>\n",
       "\t<li>101</li>\n",
       "\t<li>102</li>\n",
       "\t<li>103</li>\n",
       "\t<li>104</li>\n",
       "\t<li>105</li>\n",
       "\t<li>106</li>\n",
       "\t<li>107</li>\n",
       "\t<li>108</li>\n",
       "\t<li>109</li>\n",
       "\t<li>110</li>\n",
       "\t<li>111</li>\n",
       "\t<li>112</li>\n",
       "\t<li>113</li>\n",
       "\t<li>114</li>\n",
       "\t<li>115</li>\n",
       "\t<li>116</li>\n",
       "\t<li>117</li>\n",
       "\t<li>118</li>\n",
       "\t<li>119</li>\n",
       "\t<li>120</li>\n",
       "</ol>\n"
      ],
      "text/latex": [
       "\\begin{enumerate*}\n",
       "\\item 100\n",
       "\\item 101\n",
       "\\item 102\n",
       "\\item 103\n",
       "\\item 104\n",
       "\\item 105\n",
       "\\item 106\n",
       "\\item 107\n",
       "\\item 108\n",
       "\\item 109\n",
       "\\item 110\n",
       "\\item 111\n",
       "\\item 112\n",
       "\\item 113\n",
       "\\item 114\n",
       "\\item 115\n",
       "\\item 116\n",
       "\\item 117\n",
       "\\item 118\n",
       "\\item 119\n",
       "\\item 120\n",
       "\\end{enumerate*}\n"
      ],
      "text/markdown": [
       "1. 100\n",
       "2. 101\n",
       "3. 102\n",
       "4. 103\n",
       "5. 104\n",
       "6. 105\n",
       "7. 106\n",
       "8. 107\n",
       "9. 108\n",
       "10. 109\n",
       "11. 110\n",
       "12. 111\n",
       "13. 112\n",
       "14. 113\n",
       "15. 114\n",
       "16. 115\n",
       "17. 116\n",
       "18. 117\n",
       "19. 118\n",
       "20. 119\n",
       "21. 120\n",
       "\n",
       "\n"
      ],
      "text/plain": [
       " [1] 100 101 102 103 104 105 106 107 108 109 110 111 112 113 114 115 116 117 118\n",
       "[20] 119 120"
      ]
     },
     "metadata": {},
     "output_type": "display_data"
    }
   ],
   "source": [
    "var_seq <- 100:120\n",
    "var_seq"
   ]
  },
  {
   "cell_type": "code",
   "execution_count": 7,
   "metadata": {},
   "outputs": [
    {
     "data": {
      "text/html": [
       "<table>\n",
       "<tbody>\n",
       "\t<tr><td>2 </td><td>5 </td><td> 8</td></tr>\n",
       "\t<tr><td>3 </td><td>6 </td><td> 9</td></tr>\n",
       "\t<tr><td>4 </td><td>7 </td><td>10</td></tr>\n",
       "</tbody>\n",
       "</table>\n"
      ],
      "text/latex": [
       "\\begin{tabular}{lll}\n",
       "\t 2  & 5  &  8\\\\\n",
       "\t 3  & 6  &  9\\\\\n",
       "\t 4  & 7  & 10\\\\\n",
       "\\end{tabular}\n"
      ],
      "text/markdown": [
       "\n",
       "| 2  | 5  |  8 |\n",
       "| 3  | 6  |  9 |\n",
       "| 4  | 7  | 10 |\n",
       "\n"
      ],
      "text/plain": [
       "     [,1] [,2] [,3]\n",
       "[1,] 2    5     8  \n",
       "[2,] 3    6     9  \n",
       "[3,] 4    7    10  "
      ]
     },
     "metadata": {},
     "output_type": "display_data"
    }
   ],
   "source": [
    "mtrx_1 <- matrix(2:10, nrow=3, ncol=3)\n",
    "mtrx_1"
   ]
  },
  {
   "cell_type": "code",
   "execution_count": 12,
   "metadata": {},
   "outputs": [
    {
     "data": {
      "text/html": [
       "<table>\n",
       "<thead><tr><th></th><th scope=col>Column1</th><th scope=col>Column2</th><th scope=col>Column3</th></tr></thead>\n",
       "<tbody>\n",
       "\t<tr><th scope=row>Row1</th><td>2 </td><td>5 </td><td> 8</td></tr>\n",
       "\t<tr><th scope=row>Row2</th><td>3 </td><td>6 </td><td> 9</td></tr>\n",
       "\t<tr><th scope=row>Row3</th><td>4 </td><td>7 </td><td>10</td></tr>\n",
       "</tbody>\n",
       "</table>\n"
      ],
      "text/latex": [
       "\\begin{tabular}{r|lll}\n",
       "  & Column1 & Column2 & Column3\\\\\n",
       "\\hline\n",
       "\tRow1 & 2  & 5  &  8\\\\\n",
       "\tRow2 & 3  & 6  &  9\\\\\n",
       "\tRow3 & 4  & 7  & 10\\\\\n",
       "\\end{tabular}\n"
      ],
      "text/markdown": [
       "\n",
       "| <!--/--> | Column1 | Column2 | Column3 |\n",
       "|---|---|---|---|\n",
       "| Row1 | 2  | 5  |  8 |\n",
       "| Row2 | 3  | 6  |  9 |\n",
       "| Row3 | 4  | 7  | 10 |\n",
       "\n"
      ],
      "text/plain": [
       "     Column1 Column2 Column3\n",
       "Row1 2       5        8     \n",
       "Row2 3       6        9     \n",
       "Row3 4       7       10     "
      ]
     },
     "metadata": {},
     "output_type": "display_data"
    }
   ],
   "source": [
    "dimnames(mtrx_1) <- list(c(\"Row1\",\"Row2\",\"Row3\"),c(\"Column1\",\"Column2\",\"Column3\"))\n",
    "mtrx_1"
   ]
  },
  {
   "cell_type": "code",
   "execution_count": null,
   "metadata": {},
   "outputs": [],
   "source": [
    "#### End solution ####"
   ]
  },
  {
   "cell_type": "markdown",
   "metadata": {},
   "source": [
    "### Question 2\n",
    "**Create a factor variable emp_status:**\n",
    "1. Containing the categorical variables: Employed, Unemployed, Self-Employed, with each level appearing atleast more than 2.\n",
    "2. Display the levels and the factor variable as a table.\n",
    "3. Unclass the elements of the factor variable."
   ]
  },
  {
   "cell_type": "code",
   "execution_count": 4,
   "metadata": {},
   "outputs": [],
   "source": [
    "#### Start solution ####"
   ]
  },
  {
   "cell_type": "code",
   "execution_count": 13,
   "metadata": {},
   "outputs": [
    {
     "data": {
      "text/html": [
       "<ol class=list-inline>\n",
       "\t<li>Employed</li>\n",
       "\t<li>Employed</li>\n",
       "\t<li>Un-Employed</li>\n",
       "\t<li>Self-Employed</li>\n",
       "\t<li>Employed</li>\n",
       "\t<li>Un-Employed</li>\n",
       "\t<li>Self-Employed</li>\n",
       "</ol>\n",
       "\n",
       "<details>\n",
       "\t<summary style=display:list-item;cursor:pointer>\n",
       "\t\t<strong>Levels</strong>:\n",
       "\t</summary>\n",
       "\t<ol class=list-inline>\n",
       "\t\t<li>'Employed'</li>\n",
       "\t\t<li>'Un-Employed'</li>\n",
       "\t\t<li>'Self-Employed'</li>\n",
       "\t</ol>\n",
       "</details>"
      ],
      "text/latex": [
       "\\begin{enumerate*}\n",
       "\\item Employed\n",
       "\\item Employed\n",
       "\\item Un-Employed\n",
       "\\item Self-Employed\n",
       "\\item Employed\n",
       "\\item Un-Employed\n",
       "\\item Self-Employed\n",
       "\\end{enumerate*}\n",
       "\n",
       "\\emph{Levels}: \\begin{enumerate*}\n",
       "\\item 'Employed'\n",
       "\\item 'Un-Employed'\n",
       "\\item 'Self-Employed'\n",
       "\\end{enumerate*}\n"
      ],
      "text/markdown": [
       "1. Employed\n",
       "2. Employed\n",
       "3. Un-Employed\n",
       "4. Self-Employed\n",
       "5. Employed\n",
       "6. Un-Employed\n",
       "7. Self-Employed\n",
       "\n",
       "\n",
       "\n",
       "**Levels**: 1. 'Employed'\n",
       "2. 'Un-Employed'\n",
       "3. 'Self-Employed'\n",
       "\n",
       "\n"
      ],
      "text/plain": [
       "[1] Employed      Employed      Un-Employed   Self-Employed Employed     \n",
       "[6] Un-Employed   Self-Employed\n",
       "Levels: Employed Un-Employed Self-Employed"
      ]
     },
     "metadata": {},
     "output_type": "display_data"
    }
   ],
   "source": [
    "cat_var <- factor(c(\"Employed\",\"Employed\",\"Un-Employed\",\"Self-Employed\",\"Employed\",\"Un-Employed\",\"Self-Employed\"),levels = c(\"Employed\",\"Un-Employed\",\"Self-Employed\"))\n",
    "cat_var"
   ]
  },
  {
   "cell_type": "code",
   "execution_count": 14,
   "metadata": {},
   "outputs": [
    {
     "data": {
      "text/plain": [
       "cat_var\n",
       "     Employed   Un-Employed Self-Employed \n",
       "            3             2             2 "
      ]
     },
     "metadata": {},
     "output_type": "display_data"
    }
   ],
   "source": [
    "table(cat_var)"
   ]
  },
  {
   "cell_type": "code",
   "execution_count": 15,
   "metadata": {},
   "outputs": [
    {
     "data": {
      "text/html": [
       "<ol class=list-inline>\n",
       "\t<li>1</li>\n",
       "\t<li>1</li>\n",
       "\t<li>2</li>\n",
       "\t<li>3</li>\n",
       "\t<li>1</li>\n",
       "\t<li>2</li>\n",
       "\t<li>3</li>\n",
       "</ol>\n"
      ],
      "text/latex": [
       "\\begin{enumerate*}\n",
       "\\item 1\n",
       "\\item 1\n",
       "\\item 2\n",
       "\\item 3\n",
       "\\item 1\n",
       "\\item 2\n",
       "\\item 3\n",
       "\\end{enumerate*}\n"
      ],
      "text/markdown": [
       "1. 1\n",
       "2. 1\n",
       "3. 2\n",
       "4. 3\n",
       "5. 1\n",
       "6. 2\n",
       "7. 3\n",
       "\n",
       "\n"
      ],
      "text/plain": [
       "[1] 1 1 2 3 1 2 3\n",
       "attr(,\"levels\")\n",
       "[1] \"Employed\"      \"Un-Employed\"   \"Self-Employed\""
      ]
     },
     "metadata": {},
     "output_type": "display_data"
    }
   ],
   "source": [
    "unclass(cat_var)"
   ]
  },
  {
   "cell_type": "code",
   "execution_count": 3,
   "metadata": {},
   "outputs": [],
   "source": [
    "#### End solution ####"
   ]
  },
  {
   "cell_type": "markdown",
   "metadata": {},
   "source": [
    "### Question 3\n",
    "**Create a dataframe object called bank_customers:**\n",
    "1. the data frame will have three columns: CustomerID, hasAccount, totalBalance\n",
    "2. Fill the data as follows\n",
    "    a. Alicia does not have an account. She is here for inquiry \n",
    "    b. Nancy is here to check on her account balance of USD 10,000.\n",
    "    c. Fernando is here to deposit USD 100 in his account which had no balance.\n",
    "    d. Louis will withdraw all his money from the account that had USD 2,000. \n",
    "    e. Diane is here for information. \n",
    "3. For customers that do not have a value, use NA as placeholder.\n",
    "4. Print the number of rows, columns and names for the data frame."
   ]
  },
  {
   "cell_type": "code",
   "execution_count": null,
   "metadata": {},
   "outputs": [],
   "source": [
    "#### Start solution ####"
   ]
  },
  {
   "cell_type": "code",
   "execution_count": 16,
   "metadata": {},
   "outputs": [
    {
     "data": {
      "text/html": [
       "<table>\n",
       "<thead><tr><th scope=col>CustomerID</th><th scope=col>hasAccount</th><th scope=col>totalBalance</th></tr></thead>\n",
       "<tbody>\n",
       "\t<tr><td>Alicia  </td><td>FALSE   </td><td>   NA   </td></tr>\n",
       "\t<tr><td>Nancy   </td><td> TRUE   </td><td>10000   </td></tr>\n",
       "\t<tr><td>Fernando</td><td> TRUE   </td><td>    0   </td></tr>\n",
       "\t<tr><td>Louis   </td><td> TRUE   </td><td> 2000   </td></tr>\n",
       "\t<tr><td>Diane   </td><td>FALSE   </td><td>   NA   </td></tr>\n",
       "</tbody>\n",
       "</table>\n"
      ],
      "text/latex": [
       "\\begin{tabular}{r|lll}\n",
       " CustomerID & hasAccount & totalBalance\\\\\n",
       "\\hline\n",
       "\t Alicia   & FALSE    &    NA   \\\\\n",
       "\t Nancy    &  TRUE    & 10000   \\\\\n",
       "\t Fernando &  TRUE    &     0   \\\\\n",
       "\t Louis    &  TRUE    &  2000   \\\\\n",
       "\t Diane    & FALSE    &    NA   \\\\\n",
       "\\end{tabular}\n"
      ],
      "text/markdown": [
       "\n",
       "| CustomerID | hasAccount | totalBalance |\n",
       "|---|---|---|\n",
       "| Alicia   | FALSE    |    NA    |\n",
       "| Nancy    |  TRUE    | 10000    |\n",
       "| Fernando |  TRUE    |     0    |\n",
       "| Louis    |  TRUE    |  2000    |\n",
       "| Diane    | FALSE    |    NA    |\n",
       "\n"
      ],
      "text/plain": [
       "  CustomerID hasAccount totalBalance\n",
       "1 Alicia     FALSE         NA       \n",
       "2 Nancy       TRUE      10000       \n",
       "3 Fernando    TRUE          0       \n",
       "4 Louis       TRUE       2000       \n",
       "5 Diane      FALSE         NA       "
      ]
     },
     "metadata": {},
     "output_type": "display_data"
    }
   ],
   "source": [
    "## 1. Create a data frame object called bank_customers :\n",
    "bank_customers <- data.frame(CustomerID=c(\"Alicia\",\"Nancy\",\"Fernando\",\"Louis\",\"Diane\"),hasAccount=c(FALSE,TRUE,TRUE,TRUE,FALSE),totalBalance=c(NA,10000,000.00,2000,NA))\n",
    "bank_customers"
   ]
  },
  {
   "cell_type": "code",
   "execution_count": 17,
   "metadata": {},
   "outputs": [
    {
     "data": {
      "text/html": [
       "5"
      ],
      "text/latex": [
       "5"
      ],
      "text/markdown": [
       "5"
      ],
      "text/plain": [
       "[1] 5"
      ]
     },
     "metadata": {},
     "output_type": "display_data"
    }
   ],
   "source": [
    "## Print number of rows\n",
    "nrow(bank_customers)"
   ]
  },
  {
   "cell_type": "code",
   "execution_count": 18,
   "metadata": {},
   "outputs": [
    {
     "data": {
      "text/html": [
       "3"
      ],
      "text/latex": [
       "3"
      ],
      "text/markdown": [
       "3"
      ],
      "text/plain": [
       "[1] 3"
      ]
     },
     "metadata": {},
     "output_type": "display_data"
    }
   ],
   "source": [
    "## Print number of columns\n",
    "ncol(bank_customers)"
   ]
  },
  {
   "cell_type": "code",
   "execution_count": 19,
   "metadata": {},
   "outputs": [
    {
     "data": {
      "text/html": [
       "<ol class=list-inline>\n",
       "\t<li>'CustomerID'</li>\n",
       "\t<li>'hasAccount'</li>\n",
       "\t<li>'totalBalance'</li>\n",
       "</ol>\n"
      ],
      "text/latex": [
       "\\begin{enumerate*}\n",
       "\\item 'CustomerID'\n",
       "\\item 'hasAccount'\n",
       "\\item 'totalBalance'\n",
       "\\end{enumerate*}\n"
      ],
      "text/markdown": [
       "1. 'CustomerID'\n",
       "2. 'hasAccount'\n",
       "3. 'totalBalance'\n",
       "\n",
       "\n"
      ],
      "text/plain": [
       "[1] \"CustomerID\"   \"hasAccount\"   \"totalBalance\""
      ]
     },
     "metadata": {},
     "output_type": "display_data"
    }
   ],
   "source": [
    "## Print names \n",
    "names(bank_customers)"
   ]
  },
  {
   "cell_type": "code",
   "execution_count": 2,
   "metadata": {},
   "outputs": [],
   "source": [
    "#### End solution ####"
   ]
  },
  {
   "cell_type": "markdown",
   "metadata": {},
   "source": [
    "### Good Job! You have successfully completed the section!"
   ]
  },
  {
   "cell_type": "markdown",
   "metadata": {},
   "source": [
    "## Section 2: Control Structures "
   ]
  },
  {
   "cell_type": "markdown",
   "metadata": {},
   "source": [
    "### Question 1\n",
    "**Create a variable containing a sequence of numbers from 1 to 100:**\n",
    "1. Iterate over the variables and print those numbers which are prime.\n",
    "\n",
    "**Create a variable var with a value of 1:**\n",
    "1. Create a while loop and increase the value of var at each iteration. \n",
    "2. When you reach the 10th prime number, terminate the loop and print the number."
   ]
  },
  {
   "cell_type": "code",
   "execution_count": 5,
   "metadata": {},
   "outputs": [],
   "source": [
    "#### Start solution ####"
   ]
  },
  {
   "cell_type": "code",
   "execution_count": 20,
   "metadata": {},
   "outputs": [
    {
     "name": "stdout",
     "output_type": "stream",
     "text": [
      "  [1]   1   2   3   4   5   6   7   8   9  10  11  12  13  14  15  16  17  18\n",
      " [19]  19  20  21  22  23  24  25  26  27  28  29  30  31  32  33  34  35  36\n",
      " [37]  37  38  39  40  41  42  43  44  45  46  47  48  49  50  51  52  53  54\n",
      " [55]  55  56  57  58  59  60  61  62  63  64  65  66  67  68  69  70  71  72\n",
      " [73]  73  74  75  76  77  78  79  80  81  82  83  84  85  86  87  88  89  90\n",
      " [91]  91  92  93  94  95  96  97  98  99 100\n"
     ]
    }
   ],
   "source": [
    "## Create a variable containing a sequence of numbers from 1 to 100:\n",
    "v <- 1:100\n",
    "print(v)"
   ]
  },
  {
   "cell_type": "code",
   "execution_count": 21,
   "metadata": {},
   "outputs": [
    {
     "name": "stdout",
     "output_type": "stream",
     "text": [
      "[1] 2\n",
      "[1] 3\n",
      "[1] 5\n",
      "[1] 7\n",
      "[1] 11\n",
      "[1] 13\n",
      "[1] 17\n",
      "[1] 19\n",
      "[1] 23\n",
      "[1] 29\n",
      "[1] 31\n",
      "[1] 37\n",
      "[1] 41\n",
      "[1] 43\n",
      "[1] 47\n",
      "[1] 53\n",
      "[1] 59\n",
      "[1] 61\n",
      "[1] 67\n",
      "[1] 71\n",
      "[1] 73\n",
      "[1] 79\n",
      "[1] 83\n",
      "[1] 89\n",
      "[1] 97\n"
     ]
    }
   ],
   "source": [
    "## Iterate over the variables and print those numbers which are prime.\n",
    "for(x in v){\n",
    "  if(x==1){\n",
    "    next\n",
    "  } else if(x==2){\n",
    "    x==2\n",
    "  } else if(x%%2==0){\n",
    "    next\n",
    "  } else if(x==3){\n",
    "    x==3\n",
    "  } else if(x%%3==0){\n",
    "    next\n",
    "  } else if(x==5){\n",
    "    x==5\n",
    "  } else if(x%%5==0){\n",
    "    next\n",
    "  } else if(x==7){\n",
    "    x==7\n",
    "  } else if(x%%7==0){\n",
    "    next\n",
    "  }\n",
    "    print(x)\n",
    "}"
   ]
  },
  {
   "cell_type": "code",
   "execution_count": 22,
   "metadata": {},
   "outputs": [
    {
     "name": "stdout",
     "output_type": "stream",
     "text": [
      "[1] \"# 1 prime number is 2\"\n",
      "[1] \"# 2 prime number is 3\"\n",
      "[1] \"# 3 prime number is 5\"\n",
      "[1] \"# 4 prime number is 7\"\n",
      "[1] \"# 5 prime number is 11\"\n",
      "[1] \"# 6 prime number is 13\"\n",
      "[1] \"# 7 prime number is 17\"\n",
      "[1] \"# 8 prime number is 19\"\n",
      "[1] \"# 9 prime number is 23\"\n",
      "[1] \"# 10 prime number is 29\"\n"
     ]
    }
   ],
   "source": [
    "# create a variable var with a value of 1:\n",
    "count <- 0\n",
    "goal <- 10\n",
    "var <- 1\n",
    "while(count<goal){\n",
    "  var <- var+1\n",
    "  isprime <- TRUE\n",
    "  for(i in 2:(var%/%2)){\n",
    "    if(var%%i==0 && var!=2 && var!=3){\n",
    "      isprime <-FALSE\n",
    "    }\n",
    "  }\n",
    "  if(isprime){\n",
    "    count<-count+1\n",
    "    print(paste(\"#\",count,\"prime number is\",var,sep=\" \"))\n",
    "  }\n",
    "}"
   ]
  },
  {
   "cell_type": "code",
   "execution_count": null,
   "metadata": {},
   "outputs": [],
   "source": []
  },
  {
   "cell_type": "code",
   "execution_count": null,
   "metadata": {},
   "outputs": [],
   "source": []
  },
  {
   "cell_type": "code",
   "execution_count": 6,
   "metadata": {},
   "outputs": [],
   "source": [
    "#### End solution ####"
   ]
  },
  {
   "cell_type": "markdown",
   "metadata": {},
   "source": [
    "### Question 2\n",
    "**Create a matrix of size 3x3 called mat_1:**\n",
    "1. Iterate over all the values one by one and print the element as well as the position in the matrix (row, col)"
   ]
  },
  {
   "cell_type": "code",
   "execution_count": 9,
   "metadata": {},
   "outputs": [],
   "source": [
    "#### Start solution ####"
   ]
  },
  {
   "cell_type": "code",
   "execution_count": 23,
   "metadata": {},
   "outputs": [
    {
     "data": {
      "text/html": [
       "<table>\n",
       "<tbody>\n",
       "\t<tr><td>1</td><td>4</td><td>7</td></tr>\n",
       "\t<tr><td>2</td><td>5</td><td>8</td></tr>\n",
       "\t<tr><td>3</td><td>6</td><td>9</td></tr>\n",
       "</tbody>\n",
       "</table>\n"
      ],
      "text/latex": [
       "\\begin{tabular}{lll}\n",
       "\t 1 & 4 & 7\\\\\n",
       "\t 2 & 5 & 8\\\\\n",
       "\t 3 & 6 & 9\\\\\n",
       "\\end{tabular}\n"
      ],
      "text/markdown": [
       "\n",
       "| 1 | 4 | 7 |\n",
       "| 2 | 5 | 8 |\n",
       "| 3 | 6 | 9 |\n",
       "\n"
      ],
      "text/plain": [
       "     [,1] [,2] [,3]\n",
       "[1,] 1    4    7   \n",
       "[2,] 2    5    8   \n",
       "[3,] 3    6    9   "
      ]
     },
     "metadata": {},
     "output_type": "display_data"
    }
   ],
   "source": [
    "## Create a matrix of size 3x3 called mat_1:\n",
    "mat_1 <- matrix(1:9,nrow = 3,ncol = 3)\n",
    "mat_1"
   ]
  },
  {
   "cell_type": "code",
   "execution_count": 24,
   "metadata": {},
   "outputs": [
    {
     "name": "stdout",
     "output_type": "stream",
     "text": [
      "[1] 1\n",
      "     row col\n",
      "[1,]   1   1\n",
      "[1] 4\n",
      "     row col\n",
      "[1,]   1   2\n",
      "[1] 7\n",
      "     row col\n",
      "[1,]   1   3\n",
      "[1] 2\n",
      "     row col\n",
      "[1,]   2   1\n",
      "[1] 5\n",
      "     row col\n",
      "[1,]   2   2\n",
      "[1] 8\n",
      "     row col\n",
      "[1,]   2   3\n",
      "[1] 3\n",
      "     row col\n",
      "[1,]   3   1\n",
      "[1] 6\n",
      "     row col\n",
      "[1,]   3   2\n",
      "[1] 9\n",
      "     row col\n",
      "[1,]   3   3\n"
     ]
    }
   ],
   "source": [
    "## 1. Iterate over all the values one by one and print the element as well as the position in the matrix (row, col):\n",
    "for(i in seq_len(nrow(mat_1))){\n",
    "  for(j in seq_len(ncol(mat_1))){\n",
    "    print(mat_1[i,j])\n",
    "    print(which(mat_1==mat_1[i,j], arr.ind=TRUE))\n",
    "  }\n",
    "}"
   ]
  },
  {
   "cell_type": "code",
   "execution_count": null,
   "metadata": {},
   "outputs": [],
   "source": []
  },
  {
   "cell_type": "code",
   "execution_count": null,
   "metadata": {},
   "outputs": [],
   "source": []
  },
  {
   "cell_type": "code",
   "execution_count": null,
   "metadata": {},
   "outputs": [],
   "source": []
  },
  {
   "cell_type": "code",
   "execution_count": 14,
   "metadata": {},
   "outputs": [],
   "source": [
    "#### End solution ####"
   ]
  },
  {
   "cell_type": "markdown",
   "metadata": {},
   "source": [
    "### Good Job! You have successfully completed the section!"
   ]
  },
  {
   "cell_type": "markdown",
   "metadata": {},
   "source": [
    "## Section 3: Functions"
   ]
  },
  {
   "cell_type": "markdown",
   "metadata": {},
   "source": [
    "### Question 1\n",
    "**Create a function called gcd that finds the greatest common divisor of two numbers a and b:**\n",
    "1. a and b, should be taken as input.\n",
    "2. The function must print the GCD as well as return it.\n",
    "3. The output must be saved in a variable called answer."
   ]
  },
  {
   "cell_type": "code",
   "execution_count": 9,
   "metadata": {},
   "outputs": [],
   "source": [
    "#### Start solution ####"
   ]
  },
  {
   "cell_type": "code",
   "execution_count": 25,
   "metadata": {},
   "outputs": [],
   "source": [
    "## Create a function called gcd that finds the greatest common divisor of two numbers a and b:\n",
    "gcd <- function(a,b){\n",
    "  if(b > a){\n",
    "    min_num = b\n",
    "  } \n",
    "  else {\n",
    "    min_num = a\n",
    "  }\n",
    "  for(i in 1:min_num+1){\n",
    "    if(a%%i==0 && b%%i==0)\n",
    "      answer = i\n",
    "  }\n",
    "  return(answer)\n",
    "}"
   ]
  },
  {
   "cell_type": "code",
   "execution_count": 26,
   "metadata": {},
   "outputs": [
    {
     "data": {
      "text/html": [
       "4"
      ],
      "text/latex": [
       "4"
      ],
      "text/markdown": [
       "4"
      ],
      "text/plain": [
       "[1] 4"
      ]
     },
     "metadata": {},
     "output_type": "display_data"
    }
   ],
   "source": [
    "# return answer\n",
    "answer <- gcd(28,36)\n",
    "answer"
   ]
  },
  {
   "cell_type": "code",
   "execution_count": null,
   "metadata": {},
   "outputs": [],
   "source": []
  },
  {
   "cell_type": "code",
   "execution_count": null,
   "metadata": {},
   "outputs": [],
   "source": []
  },
  {
   "cell_type": "code",
   "execution_count": null,
   "metadata": {},
   "outputs": [],
   "source": []
  },
  {
   "cell_type": "code",
   "execution_count": 14,
   "metadata": {},
   "outputs": [],
   "source": [
    "#### End solution ####"
   ]
  },
  {
   "cell_type": "markdown",
   "metadata": {},
   "source": [
    "### Question 2\n",
    "**Create a function called allConditionsMeet, that checks whether two expressions evaluate to true:**\n",
    "1. a and b, should be taken as input.\n",
    "2. the function should check if a and b, both conditions, evaluate to True.\n",
    "3. The function must returns a boolean value.\n",
    "4. Using a method, print the arguments that function takes."
   ]
  },
  {
   "cell_type": "code",
   "execution_count": 9,
   "metadata": {},
   "outputs": [],
   "source": [
    "#### Start solution ####"
   ]
  },
  {
   "cell_type": "code",
   "execution_count": 27,
   "metadata": {},
   "outputs": [],
   "source": [
    "## Create a function called allConditionsMeet, that checks whether two expressions evaluate to true:\n",
    "\n",
    "allConditionsMeet <- function(a,b){\n",
    "  if(a==TRUE && b==TRUE){\n",
    "    return(TRUE)\n",
    "  } else {\n",
    "    FALSE\n",
    "  }\n",
    "}"
   ]
  },
  {
   "cell_type": "code",
   "execution_count": 28,
   "metadata": {},
   "outputs": [
    {
     "data": {
      "text/html": [
       "FALSE"
      ],
      "text/latex": [
       "FALSE"
      ],
      "text/markdown": [
       "FALSE"
      ],
      "text/plain": [
       "[1] FALSE"
      ]
     },
     "metadata": {},
     "output_type": "display_data"
    }
   ],
   "source": [
    "allConditionsMeet(TRUE,FALSE)"
   ]
  },
  {
   "cell_type": "code",
   "execution_count": 29,
   "metadata": {},
   "outputs": [
    {
     "data": {
      "text/html": [
       "TRUE"
      ],
      "text/latex": [
       "TRUE"
      ],
      "text/markdown": [
       "TRUE"
      ],
      "text/plain": [
       "[1] TRUE"
      ]
     },
     "metadata": {},
     "output_type": "display_data"
    }
   ],
   "source": [
    "allConditionsMeet(TRUE,TRUE)"
   ]
  },
  {
   "cell_type": "code",
   "execution_count": null,
   "metadata": {},
   "outputs": [],
   "source": []
  },
  {
   "cell_type": "code",
   "execution_count": null,
   "metadata": {},
   "outputs": [],
   "source": []
  },
  {
   "cell_type": "code",
   "execution_count": 14,
   "metadata": {},
   "outputs": [],
   "source": [
    "#### End solution ####"
   ]
  },
  {
   "cell_type": "markdown",
   "metadata": {},
   "source": [
    "### Good Job! You have successfully completed the section!"
   ]
  },
  {
   "cell_type": "markdown",
   "metadata": {},
   "source": [
    "## Section 4: Vectorized Operations"
   ]
  },
  {
   "cell_type": "markdown",
   "metadata": {},
   "source": [
    "### Question 1\n",
    "**Create two matrices matrix_1 and matrix_2 of dimensions 2x3 and 3x2:**\n",
    "1. Perform element-wise multiplication.\n",
    "2. Perform matrix multipilcation. \n",
    "\n",
    "**Create a 2x2 matrix my_mat:**\n",
    "1. Write a function to find the determinant of the matrix."
   ]
  },
  {
   "cell_type": "code",
   "execution_count": 9,
   "metadata": {},
   "outputs": [],
   "source": [
    "#### Start solution ####"
   ]
  },
  {
   "cell_type": "code",
   "execution_count": 30,
   "metadata": {},
   "outputs": [
    {
     "data": {
      "text/html": [
       "<table>\n",
       "<tbody>\n",
       "\t<tr><td>5 </td><td> 9</td><td>18</td></tr>\n",
       "\t<tr><td>8 </td><td>16</td><td>20</td></tr>\n",
       "</tbody>\n",
       "</table>\n"
      ],
      "text/latex": [
       "\\begin{tabular}{lll}\n",
       "\t 5  &  9 & 18\\\\\n",
       "\t 8  & 16 & 20\\\\\n",
       "\\end{tabular}\n"
      ],
      "text/markdown": [
       "\n",
       "| 5  |  9 | 18 |\n",
       "| 8  | 16 | 20 |\n",
       "\n"
      ],
      "text/plain": [
       "     [,1] [,2] [,3]\n",
       "[1,] 5     9   18  \n",
       "[2,] 8    16   20  "
      ]
     },
     "metadata": {},
     "output_type": "display_data"
    }
   ],
   "source": [
    "## Create two matrices matrix_1 and matrix_2 of dimensions 2x3 and 3x2:\n",
    "matrix_1 <- matrix(c(5,8,9,16,18,20) ,nrow = 2,ncol = 3)\n",
    "matrix_2 <- matrix(rep(5,6),nrow = 3,ncol=2)\n",
    "\n",
    "matrix_1"
   ]
  },
  {
   "cell_type": "code",
   "execution_count": 31,
   "metadata": {},
   "outputs": [
    {
     "data": {
      "text/html": [
       "<table>\n",
       "<tbody>\n",
       "\t<tr><td>5</td><td>5</td></tr>\n",
       "\t<tr><td>5</td><td>5</td></tr>\n",
       "\t<tr><td>5</td><td>5</td></tr>\n",
       "</tbody>\n",
       "</table>\n"
      ],
      "text/latex": [
       "\\begin{tabular}{ll}\n",
       "\t 5 & 5\\\\\n",
       "\t 5 & 5\\\\\n",
       "\t 5 & 5\\\\\n",
       "\\end{tabular}\n"
      ],
      "text/markdown": [
       "\n",
       "| 5 | 5 |\n",
       "| 5 | 5 |\n",
       "| 5 | 5 |\n",
       "\n"
      ],
      "text/plain": [
       "     [,1] [,2]\n",
       "[1,] 5    5   \n",
       "[2,] 5    5   \n",
       "[3,] 5    5   "
      ]
     },
     "metadata": {},
     "output_type": "display_data"
    }
   ],
   "source": [
    "matrix_2"
   ]
  },
  {
   "cell_type": "code",
   "execution_count": null,
   "metadata": {},
   "outputs": [],
   "source": [
    "## perform element wise multiplication:\n",
    "\n",
    "\n",
    "# element wise matrix cannot be performed as both matrices are of different dimensions"
   ]
  },
  {
   "cell_type": "code",
   "execution_count": 32,
   "metadata": {},
   "outputs": [
    {
     "data": {
      "text/html": [
       "<table>\n",
       "<tbody>\n",
       "\t<tr><td>160</td><td>160</td></tr>\n",
       "\t<tr><td>220</td><td>220</td></tr>\n",
       "</tbody>\n",
       "</table>\n"
      ],
      "text/latex": [
       "\\begin{tabular}{ll}\n",
       "\t 160 & 160\\\\\n",
       "\t 220 & 220\\\\\n",
       "\\end{tabular}\n"
      ],
      "text/markdown": [
       "\n",
       "| 160 | 160 |\n",
       "| 220 | 220 |\n",
       "\n"
      ],
      "text/plain": [
       "     [,1] [,2]\n",
       "[1,] 160  160 \n",
       "[2,] 220  220 "
      ]
     },
     "metadata": {},
     "output_type": "display_data"
    }
   ],
   "source": [
    "## perform matrix multiplication :\n",
    "matrix_1 %*% matrix_2"
   ]
  },
  {
   "cell_type": "code",
   "execution_count": 33,
   "metadata": {},
   "outputs": [
    {
     "data": {
      "text/html": [
       "-8"
      ],
      "text/latex": [
       "-8"
      ],
      "text/markdown": [
       "-8"
      ],
      "text/plain": [
       "[1] -8"
      ]
     },
     "metadata": {},
     "output_type": "display_data"
    }
   ],
   "source": [
    "## create a 2x2 matrix my_mat:\n",
    "my_mat <- matrix(c(2,4,6,8),nrow = 2,ncol = 2)\n",
    "\n",
    "## Write a function to find the determinant of the matrix.\n",
    "det_mat <- function(a){\n",
    "  d <- det(a)\n",
    "  return(d)\n",
    "}\n",
    "\n",
    "det_mat(my_mat)"
   ]
  },
  {
   "cell_type": "code",
   "execution_count": 14,
   "metadata": {},
   "outputs": [],
   "source": [
    "#### End solution ####"
   ]
  },
  {
   "cell_type": "markdown",
   "metadata": {},
   "source": [
    "### Good Job! You have successfully completed the section!"
   ]
  },
  {
   "cell_type": "markdown",
   "metadata": {},
   "source": [
    "## Section 5: Date and Time in R"
   ]
  },
  {
   "cell_type": "markdown",
   "metadata": {},
   "source": [
    "### Question 1\n",
    "**Use the current date and time and store them into variables curr_date and curr_time respectively: [use sys]**\n",
    "1. Convert both into date and time objects using the appropriate functions.\n",
    "2. Print the weekday, year, second and hour using the appropriate function and variables."
   ]
  },
  {
   "cell_type": "code",
   "execution_count": 9,
   "metadata": {},
   "outputs": [],
   "source": [
    "#### Start solution ####"
   ]
  },
  {
   "cell_type": "code",
   "execution_count": 34,
   "metadata": {},
   "outputs": [
    {
     "data": {
      "text/html": [
       "<time datetime=\"2022-11-25\">2022-11-25</time>"
      ],
      "text/latex": [
       "2022-11-25"
      ],
      "text/markdown": [
       "2022-11-25"
      ],
      "text/plain": [
       "[1] \"2022-11-25\""
      ]
     },
     "metadata": {},
     "output_type": "display_data"
    }
   ],
   "source": [
    "## Use the current date and time and store them into variables curr_date and curr_time respectively: [use sys]\n",
    "curr_date <- Sys.Date()\n",
    "curr_date"
   ]
  },
  {
   "cell_type": "code",
   "execution_count": 35,
   "metadata": {},
   "outputs": [
    {
     "data": {
      "text/plain": [
       "[1] \"2022-11-25 22:28:10 +03\""
      ]
     },
     "metadata": {},
     "output_type": "display_data"
    }
   ],
   "source": [
    "curr_time <- Sys.time()\n",
    "curr_time"
   ]
  },
  {
   "cell_type": "code",
   "execution_count": 36,
   "metadata": {},
   "outputs": [
    {
     "data": {
      "text/plain": [
       "[1] \"2022-11-25 UTC\""
      ]
     },
     "metadata": {},
     "output_type": "display_data"
    }
   ],
   "source": [
    "## Convert both into date and time objects using the appropriate functions.\n",
    "d <- as.POSIXlt(curr_date)\n",
    "d"
   ]
  },
  {
   "cell_type": "code",
   "execution_count": 37,
   "metadata": {},
   "outputs": [
    {
     "data": {
      "text/plain": [
       "[1] \"2022-11-25 22:28:10 +03\""
      ]
     },
     "metadata": {},
     "output_type": "display_data"
    }
   ],
   "source": [
    "t <- as.POSIXlt(curr_time)\n",
    "t"
   ]
  },
  {
   "cell_type": "code",
   "execution_count": 38,
   "metadata": {},
   "outputs": [
    {
     "name": "stdout",
     "output_type": "stream",
     "text": [
      "[1] \"weekday 5\"\n",
      "[1] \"year : 122\"\n",
      "[1] \"seconds : 10.4366519451141\"\n",
      "[1] \"hour : 22\"\n"
     ]
    }
   ],
   "source": [
    "## Print the weekday, year, second and hour using the appropriate function and variables.\n",
    "print(paste(\"weekday\", t$wday))\n",
    "print(paste(\"year :\",t$year))\n",
    "print(paste(\"seconds :\",t$sec))\n",
    "print(paste(\"hour :\",t$hour))"
   ]
  },
  {
   "cell_type": "code",
   "execution_count": 14,
   "metadata": {},
   "outputs": [],
   "source": [
    "#### End solution ####"
   ]
  },
  {
   "cell_type": "markdown",
   "metadata": {},
   "source": [
    "### Question 2\n",
    "**Create a variable to store current date/time**\n",
    "1. Create another variable that stores and set the timezone as GMT-5\n",
    "2. Find the difference between your current time and the GMT-5 timezone."
   ]
  },
  {
   "cell_type": "code",
   "execution_count": 9,
   "metadata": {},
   "outputs": [],
   "source": [
    "#### Start solution ####"
   ]
  },
  {
   "cell_type": "code",
   "execution_count": 39,
   "metadata": {},
   "outputs": [
    {
     "data": {
      "text/plain": [
       "[1] \"2022-11-25 22:29:20 +03\""
      ]
     },
     "metadata": {},
     "output_type": "display_data"
    }
   ],
   "source": [
    "## Create a variable to store current date/time\n",
    "x <- as.POSIXlt((Sys.time()))\n",
    "x"
   ]
  },
  {
   "cell_type": "code",
   "execution_count": 40,
   "metadata": {},
   "outputs": [
    {
     "data": {
      "text/plain": [
       "[1] \"2022-09-28 18:33:02 GMT\""
      ]
     },
     "metadata": {},
     "output_type": "display_data"
    }
   ],
   "source": [
    "## Create another variable that stores and set the timezone as GMT-5\n",
    "y <- strptime(\"2022-09-28 18:33:02\",\"%Y-%m-%d %H:%M:%S\",tz=\"GMT\")\n",
    "y"
   ]
  },
  {
   "cell_type": "code",
   "execution_count": 41,
   "metadata": {},
   "outputs": [
    {
     "data": {
      "text/plain": [
       "Time difference of 58.0391 days"
      ]
     },
     "metadata": {},
     "output_type": "display_data"
    }
   ],
   "source": [
    "## Find the difference between your current time and the GMT-5 timezone.\n",
    "x - y"
   ]
  },
  {
   "cell_type": "code",
   "execution_count": null,
   "metadata": {},
   "outputs": [],
   "source": []
  },
  {
   "cell_type": "code",
   "execution_count": null,
   "metadata": {},
   "outputs": [],
   "source": []
  },
  {
   "cell_type": "code",
   "execution_count": 14,
   "metadata": {},
   "outputs": [],
   "source": [
    "#### End solution ####"
   ]
  },
  {
   "cell_type": "markdown",
   "metadata": {},
   "source": [
    "### Good Job! You have successfully completed the section!"
   ]
  },
  {
   "cell_type": "markdown",
   "metadata": {},
   "source": [
    "## Section 6: Loop Functions"
   ]
  },
  {
   "cell_type": "markdown",
   "metadata": {},
   "source": [
    "### Question 1\n",
    "**Create a function to calculate mean and standard deviation of the provided data**\n",
    "1. Create a sequence of numbers from 100 to 150 store in a variable called numbers.\n",
    "1. Use lapply, sapply, apply and tapply to implement the functions on \"numbers\" [only on the second half of the sequence for tapply]"
   ]
  },
  {
   "cell_type": "code",
   "execution_count": 9,
   "metadata": {},
   "outputs": [],
   "source": [
    "#### Start solution ####"
   ]
  },
  {
   "cell_type": "code",
   "execution_count": 42,
   "metadata": {},
   "outputs": [
    {
     "data": {
      "text/html": [
       "<ol>\n",
       "\t<li><ol class=list-inline>\n",
       "\t<li>100</li>\n",
       "\t<li>101</li>\n",
       "\t<li>102</li>\n",
       "\t<li>103</li>\n",
       "\t<li>104</li>\n",
       "\t<li>105</li>\n",
       "\t<li>106</li>\n",
       "\t<li>107</li>\n",
       "\t<li>108</li>\n",
       "\t<li>109</li>\n",
       "\t<li>110</li>\n",
       "\t<li>111</li>\n",
       "\t<li>112</li>\n",
       "\t<li>113</li>\n",
       "\t<li>114</li>\n",
       "\t<li>115</li>\n",
       "\t<li>116</li>\n",
       "\t<li>117</li>\n",
       "\t<li>118</li>\n",
       "\t<li>119</li>\n",
       "\t<li>120</li>\n",
       "\t<li>121</li>\n",
       "\t<li>122</li>\n",
       "\t<li>123</li>\n",
       "\t<li>124</li>\n",
       "\t<li>125</li>\n",
       "\t<li>126</li>\n",
       "\t<li>127</li>\n",
       "\t<li>128</li>\n",
       "\t<li>129</li>\n",
       "\t<li>130</li>\n",
       "\t<li>131</li>\n",
       "\t<li>132</li>\n",
       "\t<li>133</li>\n",
       "\t<li>134</li>\n",
       "\t<li>135</li>\n",
       "\t<li>136</li>\n",
       "\t<li>137</li>\n",
       "\t<li>138</li>\n",
       "\t<li>139</li>\n",
       "\t<li>140</li>\n",
       "\t<li>141</li>\n",
       "\t<li>142</li>\n",
       "\t<li>143</li>\n",
       "\t<li>144</li>\n",
       "\t<li>145</li>\n",
       "\t<li>146</li>\n",
       "\t<li>147</li>\n",
       "\t<li>148</li>\n",
       "\t<li>149</li>\n",
       "\t<li>150</li>\n",
       "</ol>\n",
       "</li>\n",
       "</ol>\n"
      ],
      "text/latex": [
       "\\begin{enumerate}\n",
       "\\item \\begin{enumerate*}\n",
       "\\item 100\n",
       "\\item 101\n",
       "\\item 102\n",
       "\\item 103\n",
       "\\item 104\n",
       "\\item 105\n",
       "\\item 106\n",
       "\\item 107\n",
       "\\item 108\n",
       "\\item 109\n",
       "\\item 110\n",
       "\\item 111\n",
       "\\item 112\n",
       "\\item 113\n",
       "\\item 114\n",
       "\\item 115\n",
       "\\item 116\n",
       "\\item 117\n",
       "\\item 118\n",
       "\\item 119\n",
       "\\item 120\n",
       "\\item 121\n",
       "\\item 122\n",
       "\\item 123\n",
       "\\item 124\n",
       "\\item 125\n",
       "\\item 126\n",
       "\\item 127\n",
       "\\item 128\n",
       "\\item 129\n",
       "\\item 130\n",
       "\\item 131\n",
       "\\item 132\n",
       "\\item 133\n",
       "\\item 134\n",
       "\\item 135\n",
       "\\item 136\n",
       "\\item 137\n",
       "\\item 138\n",
       "\\item 139\n",
       "\\item 140\n",
       "\\item 141\n",
       "\\item 142\n",
       "\\item 143\n",
       "\\item 144\n",
       "\\item 145\n",
       "\\item 146\n",
       "\\item 147\n",
       "\\item 148\n",
       "\\item 149\n",
       "\\item 150\n",
       "\\end{enumerate*}\n",
       "\n",
       "\\end{enumerate}\n"
      ],
      "text/markdown": [
       "1. 1. 100\n",
       "2. 101\n",
       "3. 102\n",
       "4. 103\n",
       "5. 104\n",
       "6. 105\n",
       "7. 106\n",
       "8. 107\n",
       "9. 108\n",
       "10. 109\n",
       "11. 110\n",
       "12. 111\n",
       "13. 112\n",
       "14. 113\n",
       "15. 114\n",
       "16. 115\n",
       "17. 116\n",
       "18. 117\n",
       "19. 118\n",
       "20. 119\n",
       "21. 120\n",
       "22. 121\n",
       "23. 122\n",
       "24. 123\n",
       "25. 124\n",
       "26. 125\n",
       "27. 126\n",
       "28. 127\n",
       "29. 128\n",
       "30. 129\n",
       "31. 130\n",
       "32. 131\n",
       "33. 132\n",
       "34. 133\n",
       "35. 134\n",
       "36. 135\n",
       "37. 136\n",
       "38. 137\n",
       "39. 138\n",
       "40. 139\n",
       "41. 140\n",
       "42. 141\n",
       "43. 142\n",
       "44. 143\n",
       "45. 144\n",
       "46. 145\n",
       "47. 146\n",
       "48. 147\n",
       "49. 148\n",
       "50. 149\n",
       "51. 150\n",
       "\n",
       "\n",
       "\n",
       "\n",
       "\n"
      ],
      "text/plain": [
       "[[1]]\n",
       " [1] 100 101 102 103 104 105 106 107 108 109 110 111 112 113 114 115 116 117 118\n",
       "[20] 119 120 121 122 123 124 125 126 127 128 129 130 131 132 133 134 135 136 137\n",
       "[39] 138 139 140 141 142 143 144 145 146 147 148 149 150\n"
      ]
     },
     "metadata": {},
     "output_type": "display_data"
    }
   ],
   "source": [
    "## Create a sequence of numbers from 100 to 150 store in a variable called numbers.\n",
    "numbers <- list(100:150)\n",
    "numbers"
   ]
  },
  {
   "cell_type": "code",
   "execution_count": 43,
   "metadata": {},
   "outputs": [
    {
     "data": {
      "text/html": [
       "<ol>\n",
       "\t<li>125</li>\n",
       "</ol>\n"
      ],
      "text/latex": [
       "\\begin{enumerate}\n",
       "\\item 125\n",
       "\\end{enumerate}\n"
      ],
      "text/markdown": [
       "1. 125\n",
       "\n",
       "\n"
      ],
      "text/plain": [
       "[[1]]\n",
       "[1] 125\n"
      ]
     },
     "metadata": {},
     "output_type": "display_data"
    },
    {
     "data": {
      "text/html": [
       "125"
      ],
      "text/latex": [
       "125"
      ],
      "text/markdown": [
       "125"
      ],
      "text/plain": [
       "[1] 125"
      ]
     },
     "metadata": {},
     "output_type": "display_data"
    },
    {
     "data": {
      "text/html": [
       "<ol>\n",
       "\t<li>14.8660687473185</li>\n",
       "</ol>\n"
      ],
      "text/latex": [
       "\\begin{enumerate}\n",
       "\\item 14.8660687473185\n",
       "\\end{enumerate}\n"
      ],
      "text/markdown": [
       "1. 14.8660687473185\n",
       "\n",
       "\n"
      ],
      "text/plain": [
       "[[1]]\n",
       "[1] 14.86607\n"
      ]
     },
     "metadata": {},
     "output_type": "display_data"
    },
    {
     "data": {
      "text/html": [
       "14.8660687473185"
      ],
      "text/latex": [
       "14.8660687473185"
      ],
      "text/markdown": [
       "14.8660687473185"
      ],
      "text/plain": [
       "[1] 14.86607"
      ]
     },
     "metadata": {},
     "output_type": "display_data"
    }
   ],
   "source": [
    "lapply(numbers,mean)\n",
    "sapply(numbers,mean)\n",
    "\n",
    "lapply(numbers,sd)\n",
    "sapply(numbers,sd)"
   ]
  },
  {
   "cell_type": "code",
   "execution_count": 44,
   "metadata": {},
   "outputs": [
    {
     "data": {
      "text/html": [
       "<table>\n",
       "<tbody>\n",
       "\t<tr><td>101</td><td>106</td><td>111</td><td>116</td><td>121</td><td>126</td><td>131</td><td>136</td><td>141</td><td>146</td></tr>\n",
       "\t<tr><td>102</td><td>107</td><td>112</td><td>117</td><td>122</td><td>127</td><td>132</td><td>137</td><td>142</td><td>147</td></tr>\n",
       "\t<tr><td>103</td><td>108</td><td>113</td><td>118</td><td>123</td><td>128</td><td>133</td><td>138</td><td>143</td><td>148</td></tr>\n",
       "\t<tr><td>104</td><td>109</td><td>114</td><td>119</td><td>124</td><td>129</td><td>134</td><td>139</td><td>144</td><td>149</td></tr>\n",
       "\t<tr><td>105</td><td>110</td><td>115</td><td>120</td><td>125</td><td>130</td><td>135</td><td>140</td><td>145</td><td>150</td></tr>\n",
       "</tbody>\n",
       "</table>\n"
      ],
      "text/latex": [
       "\\begin{tabular}{llllllllll}\n",
       "\t 101 & 106 & 111 & 116 & 121 & 126 & 131 & 136 & 141 & 146\\\\\n",
       "\t 102 & 107 & 112 & 117 & 122 & 127 & 132 & 137 & 142 & 147\\\\\n",
       "\t 103 & 108 & 113 & 118 & 123 & 128 & 133 & 138 & 143 & 148\\\\\n",
       "\t 104 & 109 & 114 & 119 & 124 & 129 & 134 & 139 & 144 & 149\\\\\n",
       "\t 105 & 110 & 115 & 120 & 125 & 130 & 135 & 140 & 145 & 150\\\\\n",
       "\\end{tabular}\n"
      ],
      "text/markdown": [
       "\n",
       "| 101 | 106 | 111 | 116 | 121 | 126 | 131 | 136 | 141 | 146 |\n",
       "| 102 | 107 | 112 | 117 | 122 | 127 | 132 | 137 | 142 | 147 |\n",
       "| 103 | 108 | 113 | 118 | 123 | 128 | 133 | 138 | 143 | 148 |\n",
       "| 104 | 109 | 114 | 119 | 124 | 129 | 134 | 139 | 144 | 149 |\n",
       "| 105 | 110 | 115 | 120 | 125 | 130 | 135 | 140 | 145 | 150 |\n",
       "\n"
      ],
      "text/plain": [
       "     [,1] [,2] [,3] [,4] [,5] [,6] [,7] [,8] [,9] [,10]\n",
       "[1,] 101  106  111  116  121  126  131  136  141  146  \n",
       "[2,] 102  107  112  117  122  127  132  137  142  147  \n",
       "[3,] 103  108  113  118  123  128  133  138  143  148  \n",
       "[4,] 104  109  114  119  124  129  134  139  144  149  \n",
       "[5,] 105  110  115  120  125  130  135  140  145  150  "
      ]
     },
     "metadata": {},
     "output_type": "display_data"
    },
    {
     "data": {
      "text/html": [
       "<ol class=list-inline>\n",
       "\t<li>123.5</li>\n",
       "\t<li>124.5</li>\n",
       "\t<li>125.5</li>\n",
       "\t<li>126.5</li>\n",
       "\t<li>127.5</li>\n",
       "</ol>\n"
      ],
      "text/latex": [
       "\\begin{enumerate*}\n",
       "\\item 123.5\n",
       "\\item 124.5\n",
       "\\item 125.5\n",
       "\\item 126.5\n",
       "\\item 127.5\n",
       "\\end{enumerate*}\n"
      ],
      "text/markdown": [
       "1. 123.5\n",
       "2. 124.5\n",
       "3. 125.5\n",
       "4. 126.5\n",
       "5. 127.5\n",
       "\n",
       "\n"
      ],
      "text/plain": [
       "[1] 123.5 124.5 125.5 126.5 127.5"
      ]
     },
     "metadata": {},
     "output_type": "display_data"
    },
    {
     "data": {
      "text/html": [
       "<ol class=list-inline>\n",
       "\t<li>15.1382517704875</li>\n",
       "\t<li>15.1382517704875</li>\n",
       "\t<li>15.1382517704875</li>\n",
       "\t<li>15.1382517704875</li>\n",
       "\t<li>15.1382517704875</li>\n",
       "</ol>\n"
      ],
      "text/latex": [
       "\\begin{enumerate*}\n",
       "\\item 15.1382517704875\n",
       "\\item 15.1382517704875\n",
       "\\item 15.1382517704875\n",
       "\\item 15.1382517704875\n",
       "\\item 15.1382517704875\n",
       "\\end{enumerate*}\n"
      ],
      "text/markdown": [
       "1. 15.1382517704875\n",
       "2. 15.1382517704875\n",
       "3. 15.1382517704875\n",
       "4. 15.1382517704875\n",
       "5. 15.1382517704875\n",
       "\n",
       "\n"
      ],
      "text/plain": [
       "[1] 15.13825 15.13825 15.13825 15.13825 15.13825"
      ]
     },
     "metadata": {},
     "output_type": "display_data"
    }
   ],
   "source": [
    "## to apply the \"apply\" function, we need to convert the sequence into the matrix:\n",
    "numbers <- matrix(c(101:150),nrow = 5,ncol = 10)\n",
    "numbers\n",
    "\n",
    "apply(numbers,1,mean)\n",
    "apply(numbers,1,sd)"
   ]
  },
  {
   "cell_type": "code",
   "execution_count": 45,
   "metadata": {},
   "outputs": [
    {
     "data": {
      "text/html": [
       "<ol class=list-inline>\n",
       "\t<li>1</li>\n",
       "\t<li>1</li>\n",
       "\t<li>1</li>\n",
       "\t<li>1</li>\n",
       "\t<li>1</li>\n",
       "\t<li>1</li>\n",
       "\t<li>1</li>\n",
       "\t<li>1</li>\n",
       "\t<li>1</li>\n",
       "\t<li>1</li>\n",
       "\t<li>1</li>\n",
       "\t<li>1</li>\n",
       "\t<li>1</li>\n",
       "\t<li>1</li>\n",
       "\t<li>1</li>\n",
       "\t<li>1</li>\n",
       "\t<li>1</li>\n",
       "\t<li>1</li>\n",
       "\t<li>1</li>\n",
       "\t<li>1</li>\n",
       "\t<li>1</li>\n",
       "\t<li>1</li>\n",
       "\t<li>1</li>\n",
       "\t<li>1</li>\n",
       "\t<li>1</li>\n",
       "\t<li>2</li>\n",
       "\t<li>2</li>\n",
       "\t<li>2</li>\n",
       "\t<li>2</li>\n",
       "\t<li>2</li>\n",
       "\t<li>2</li>\n",
       "\t<li>2</li>\n",
       "\t<li>2</li>\n",
       "\t<li>2</li>\n",
       "\t<li>2</li>\n",
       "\t<li>2</li>\n",
       "\t<li>2</li>\n",
       "\t<li>2</li>\n",
       "\t<li>2</li>\n",
       "\t<li>2</li>\n",
       "\t<li>2</li>\n",
       "\t<li>2</li>\n",
       "\t<li>2</li>\n",
       "\t<li>2</li>\n",
       "\t<li>2</li>\n",
       "\t<li>2</li>\n",
       "\t<li>2</li>\n",
       "\t<li>2</li>\n",
       "\t<li>2</li>\n",
       "\t<li>2</li>\n",
       "</ol>\n",
       "\n",
       "<details>\n",
       "\t<summary style=display:list-item;cursor:pointer>\n",
       "\t\t<strong>Levels</strong>:\n",
       "\t</summary>\n",
       "\t<ol class=list-inline>\n",
       "\t\t<li>'1'</li>\n",
       "\t\t<li>'2'</li>\n",
       "\t</ol>\n",
       "</details>"
      ],
      "text/latex": [
       "\\begin{enumerate*}\n",
       "\\item 1\n",
       "\\item 1\n",
       "\\item 1\n",
       "\\item 1\n",
       "\\item 1\n",
       "\\item 1\n",
       "\\item 1\n",
       "\\item 1\n",
       "\\item 1\n",
       "\\item 1\n",
       "\\item 1\n",
       "\\item 1\n",
       "\\item 1\n",
       "\\item 1\n",
       "\\item 1\n",
       "\\item 1\n",
       "\\item 1\n",
       "\\item 1\n",
       "\\item 1\n",
       "\\item 1\n",
       "\\item 1\n",
       "\\item 1\n",
       "\\item 1\n",
       "\\item 1\n",
       "\\item 1\n",
       "\\item 2\n",
       "\\item 2\n",
       "\\item 2\n",
       "\\item 2\n",
       "\\item 2\n",
       "\\item 2\n",
       "\\item 2\n",
       "\\item 2\n",
       "\\item 2\n",
       "\\item 2\n",
       "\\item 2\n",
       "\\item 2\n",
       "\\item 2\n",
       "\\item 2\n",
       "\\item 2\n",
       "\\item 2\n",
       "\\item 2\n",
       "\\item 2\n",
       "\\item 2\n",
       "\\item 2\n",
       "\\item 2\n",
       "\\item 2\n",
       "\\item 2\n",
       "\\item 2\n",
       "\\item 2\n",
       "\\end{enumerate*}\n",
       "\n",
       "\\emph{Levels}: \\begin{enumerate*}\n",
       "\\item '1'\n",
       "\\item '2'\n",
       "\\end{enumerate*}\n"
      ],
      "text/markdown": [
       "1. 1\n",
       "2. 1\n",
       "3. 1\n",
       "4. 1\n",
       "5. 1\n",
       "6. 1\n",
       "7. 1\n",
       "8. 1\n",
       "9. 1\n",
       "10. 1\n",
       "11. 1\n",
       "12. 1\n",
       "13. 1\n",
       "14. 1\n",
       "15. 1\n",
       "16. 1\n",
       "17. 1\n",
       "18. 1\n",
       "19. 1\n",
       "20. 1\n",
       "21. 1\n",
       "22. 1\n",
       "23. 1\n",
       "24. 1\n",
       "25. 1\n",
       "26. 2\n",
       "27. 2\n",
       "28. 2\n",
       "29. 2\n",
       "30. 2\n",
       "31. 2\n",
       "32. 2\n",
       "33. 2\n",
       "34. 2\n",
       "35. 2\n",
       "36. 2\n",
       "37. 2\n",
       "38. 2\n",
       "39. 2\n",
       "40. 2\n",
       "41. 2\n",
       "42. 2\n",
       "43. 2\n",
       "44. 2\n",
       "45. 2\n",
       "46. 2\n",
       "47. 2\n",
       "48. 2\n",
       "49. 2\n",
       "50. 2\n",
       "\n",
       "\n",
       "\n",
       "**Levels**: 1. '1'\n",
       "2. '2'\n",
       "\n",
       "\n"
      ],
      "text/plain": [
       " [1] 1 1 1 1 1 1 1 1 1 1 1 1 1 1 1 1 1 1 1 1 1 1 1 1 1 2 2 2 2 2 2 2 2 2 2 2 2 2\n",
       "[39] 2 2 2 2 2 2 2 2 2 2 2 2\n",
       "Levels: 1 2"
      ]
     },
     "metadata": {},
     "output_type": "display_data"
    }
   ],
   "source": [
    "## to apply the \"tapply\" function, we need to create an index named \"t\":\n",
    "t <- gl(2,25)\n",
    "t"
   ]
  },
  {
   "cell_type": "code",
   "execution_count": 46,
   "metadata": {},
   "outputs": [
    {
     "data": {
      "text/html": [
       "<dl class=dl-horizontal>\n",
       "\t<dt>1</dt>\n",
       "\t\t<dd>113</dd>\n",
       "\t<dt>2</dt>\n",
       "\t\t<dd>138</dd>\n",
       "</dl>\n"
      ],
      "text/latex": [
       "\\begin{description*}\n",
       "\\item[1] 113\n",
       "\\item[2] 138\n",
       "\\end{description*}\n"
      ],
      "text/markdown": [
       "1\n",
       ":   1132\n",
       ":   138\n",
       "\n"
      ],
      "text/plain": [
       "  1   2 \n",
       "113 138 "
      ]
     },
     "metadata": {},
     "output_type": "display_data"
    },
    {
     "data": {
      "text/html": [
       "<dl class=dl-horizontal>\n",
       "\t<dt>1</dt>\n",
       "\t\t<dd>7.35980072193987</dd>\n",
       "\t<dt>2</dt>\n",
       "\t\t<dd>7.35980072193987</dd>\n",
       "</dl>\n"
      ],
      "text/latex": [
       "\\begin{description*}\n",
       "\\item[1] 7.35980072193987\n",
       "\\item[2] 7.35980072193987\n",
       "\\end{description*}\n"
      ],
      "text/markdown": [
       "1\n",
       ":   7.359800721939872\n",
       ":   7.35980072193987\n",
       "\n"
      ],
      "text/plain": [
       "       1        2 \n",
       "7.359801 7.359801 "
      ]
     },
     "metadata": {},
     "output_type": "display_data"
    }
   ],
   "source": [
    "tapply(numbers,t,mean)\n",
    "tapply(numbers,t,sd)"
   ]
  },
  {
   "cell_type": "code",
   "execution_count": 14,
   "metadata": {},
   "outputs": [],
   "source": [
    "#### End solution ####"
   ]
  },
  {
   "cell_type": "markdown",
   "metadata": {},
   "source": [
    "### Question 2\n",
    "**Create a matrix of dimensions 4x4**\n",
    "1. Find the row-wise and column-wise mean of the matrix.\n",
    "2. Print the values."
   ]
  },
  {
   "cell_type": "code",
   "execution_count": 9,
   "metadata": {},
   "outputs": [],
   "source": [
    "#### Start solution ####"
   ]
  },
  {
   "cell_type": "code",
   "execution_count": 47,
   "metadata": {},
   "outputs": [
    {
     "data": {
      "text/html": [
       "<table>\n",
       "<tbody>\n",
       "\t<tr><td>1 </td><td>5 </td><td> 9</td><td>13</td></tr>\n",
       "\t<tr><td>2 </td><td>6 </td><td>10</td><td>14</td></tr>\n",
       "\t<tr><td>3 </td><td>7 </td><td>11</td><td>15</td></tr>\n",
       "\t<tr><td>4 </td><td>8 </td><td>12</td><td>16</td></tr>\n",
       "</tbody>\n",
       "</table>\n"
      ],
      "text/latex": [
       "\\begin{tabular}{llll}\n",
       "\t 1  & 5  &  9 & 13\\\\\n",
       "\t 2  & 6  & 10 & 14\\\\\n",
       "\t 3  & 7  & 11 & 15\\\\\n",
       "\t 4  & 8  & 12 & 16\\\\\n",
       "\\end{tabular}\n"
      ],
      "text/markdown": [
       "\n",
       "| 1  | 5  |  9 | 13 |\n",
       "| 2  | 6  | 10 | 14 |\n",
       "| 3  | 7  | 11 | 15 |\n",
       "| 4  | 8  | 12 | 16 |\n",
       "\n"
      ],
      "text/plain": [
       "     [,1] [,2] [,3] [,4]\n",
       "[1,] 1    5     9   13  \n",
       "[2,] 2    6    10   14  \n",
       "[3,] 3    7    11   15  \n",
       "[4,] 4    8    12   16  "
      ]
     },
     "metadata": {},
     "output_type": "display_data"
    }
   ],
   "source": [
    "## Create a matrix of dimensions 4x4:\n",
    "mtrx <- matrix(1:16,nrow = 4,ncol = 4)\n",
    "mtrx"
   ]
  },
  {
   "cell_type": "code",
   "execution_count": 48,
   "metadata": {},
   "outputs": [],
   "source": [
    "row_wise_mean <- apply(mtrx,1,mean)\n",
    "column_wise_mean <- apply(mtrx,2,mean)"
   ]
  },
  {
   "cell_type": "code",
   "execution_count": 49,
   "metadata": {},
   "outputs": [
    {
     "data": {
      "text/html": [
       "<ol class=list-inline>\n",
       "\t<li>7</li>\n",
       "\t<li>8</li>\n",
       "\t<li>9</li>\n",
       "\t<li>10</li>\n",
       "</ol>\n"
      ],
      "text/latex": [
       "\\begin{enumerate*}\n",
       "\\item 7\n",
       "\\item 8\n",
       "\\item 9\n",
       "\\item 10\n",
       "\\end{enumerate*}\n"
      ],
      "text/markdown": [
       "1. 7\n",
       "2. 8\n",
       "3. 9\n",
       "4. 10\n",
       "\n",
       "\n"
      ],
      "text/plain": [
       "[1]  7  8  9 10"
      ]
     },
     "metadata": {},
     "output_type": "display_data"
    },
    {
     "data": {
      "text/html": [
       "<ol class=list-inline>\n",
       "\t<li>2.5</li>\n",
       "\t<li>6.5</li>\n",
       "\t<li>10.5</li>\n",
       "\t<li>14.5</li>\n",
       "</ol>\n"
      ],
      "text/latex": [
       "\\begin{enumerate*}\n",
       "\\item 2.5\n",
       "\\item 6.5\n",
       "\\item 10.5\n",
       "\\item 14.5\n",
       "\\end{enumerate*}\n"
      ],
      "text/markdown": [
       "1. 2.5\n",
       "2. 6.5\n",
       "3. 10.5\n",
       "4. 14.5\n",
       "\n",
       "\n"
      ],
      "text/plain": [
       "[1]  2.5  6.5 10.5 14.5"
      ]
     },
     "metadata": {},
     "output_type": "display_data"
    }
   ],
   "source": [
    "row_wise_mean\n",
    "column_wise_mean"
   ]
  },
  {
   "cell_type": "code",
   "execution_count": 50,
   "metadata": {},
   "outputs": [
    {
     "name": "stdout",
     "output_type": "stream",
     "text": [
      "[1] \"7\"  \"8\"  \"9\"  \"10\"\n"
     ]
    }
   ],
   "source": [
    "print(paste(row_wise_mean))"
   ]
  },
  {
   "cell_type": "code",
   "execution_count": 51,
   "metadata": {},
   "outputs": [
    {
     "name": "stdout",
     "output_type": "stream",
     "text": [
      "[1] \"2.5\"  \"6.5\"  \"10.5\" \"14.5\"\n"
     ]
    }
   ],
   "source": [
    "print(paste(column_wise_mean))"
   ]
  },
  {
   "cell_type": "code",
   "execution_count": 14,
   "metadata": {},
   "outputs": [],
   "source": [
    "#### End solution ####"
   ]
  },
  {
   "cell_type": "markdown",
   "metadata": {},
   "source": [
    "### Good Job! You have successfully completed the section!"
   ]
  },
  {
   "cell_type": "markdown",
   "metadata": {},
   "source": [
    "## Section 7: Data Split"
   ]
  },
  {
   "cell_type": "markdown",
   "metadata": {},
   "source": [
    "### Question 1\n",
    "**Using the data frame Orange:**\n",
    "1. Using split function to break down the dataset on circumference and store it in 'split_data' variable. \n",
    "2. Print the values for split_data where circumference is 30 and 75.\n",
    "3. Find the average age of the tree when the circumference is 30 and when circumference is 214.\n",
    "\n",
    "\n",
    "The dataset is loaded and the variable Orange contains the respective dataset."
   ]
  },
  {
   "cell_type": "code",
   "execution_count": 21,
   "metadata": {},
   "outputs": [],
   "source": [
    "library(datasets)"
   ]
  },
  {
   "cell_type": "code",
   "execution_count": 25,
   "metadata": {},
   "outputs": [
    {
     "data": {
      "text/html": [
       "<table>\n",
       "<thead><tr><th scope=col>Tree</th><th scope=col>age</th><th scope=col>circumference</th></tr></thead>\n",
       "<tbody>\n",
       "\t<tr><td>1   </td><td> 118</td><td> 30 </td></tr>\n",
       "\t<tr><td>1   </td><td> 484</td><td> 58 </td></tr>\n",
       "\t<tr><td>1   </td><td> 664</td><td> 87 </td></tr>\n",
       "\t<tr><td>1   </td><td>1004</td><td>115 </td></tr>\n",
       "\t<tr><td>1   </td><td>1231</td><td>120 </td></tr>\n",
       "\t<tr><td>1   </td><td>1372</td><td>142 </td></tr>\n",
       "</tbody>\n",
       "</table>\n"
      ],
      "text/latex": [
       "\\begin{tabular}{r|lll}\n",
       " Tree & age & circumference\\\\\n",
       "\\hline\n",
       "\t 1    &  118 &  30 \\\\\n",
       "\t 1    &  484 &  58 \\\\\n",
       "\t 1    &  664 &  87 \\\\\n",
       "\t 1    & 1004 & 115 \\\\\n",
       "\t 1    & 1231 & 120 \\\\\n",
       "\t 1    & 1372 & 142 \\\\\n",
       "\\end{tabular}\n"
      ],
      "text/markdown": [
       "\n",
       "| Tree | age | circumference |\n",
       "|---|---|---|\n",
       "| 1    |  118 |  30  |\n",
       "| 1    |  484 |  58  |\n",
       "| 1    |  664 |  87  |\n",
       "| 1    | 1004 | 115  |\n",
       "| 1    | 1231 | 120  |\n",
       "| 1    | 1372 | 142  |\n",
       "\n"
      ],
      "text/plain": [
       "  Tree age  circumference\n",
       "1 1     118  30          \n",
       "2 1     484  58          \n",
       "3 1     664  87          \n",
       "4 1    1004 115          \n",
       "5 1    1231 120          \n",
       "6 1    1372 142          "
      ]
     },
     "metadata": {},
     "output_type": "display_data"
    }
   ],
   "source": [
    "head(Orange)"
   ]
  },
  {
   "cell_type": "code",
   "execution_count": 9,
   "metadata": {},
   "outputs": [],
   "source": [
    "#### Start solution ####"
   ]
  },
  {
   "cell_type": "code",
   "execution_count": 52,
   "metadata": {},
   "outputs": [
    {
     "data": {
      "text/html": [
       "<dl>\n",
       "\t<dt>$`30`</dt>\n",
       "\t\t<dd><table>\n",
       "<thead><tr><th></th><th scope=col>Tree</th><th scope=col>age</th><th scope=col>circumference</th></tr></thead>\n",
       "<tbody>\n",
       "\t<tr><th scope=row>1</th><td>1  </td><td>118</td><td>30 </td></tr>\n",
       "\t<tr><th scope=row>15</th><td>3  </td><td>118</td><td>30 </td></tr>\n",
       "\t<tr><th scope=row>29</th><td>5  </td><td>118</td><td>30 </td></tr>\n",
       "</tbody>\n",
       "</table>\n",
       "</dd>\n",
       "\t<dt>$`32`</dt>\n",
       "\t\t<dd><table>\n",
       "<thead><tr><th></th><th scope=col>Tree</th><th scope=col>age</th><th scope=col>circumference</th></tr></thead>\n",
       "<tbody>\n",
       "\t<tr><th scope=row>22</th><td>4  </td><td>118</td><td>32 </td></tr>\n",
       "</tbody>\n",
       "</table>\n",
       "</dd>\n",
       "\t<dt>$`33`</dt>\n",
       "\t\t<dd><table>\n",
       "<thead><tr><th></th><th scope=col>Tree</th><th scope=col>age</th><th scope=col>circumference</th></tr></thead>\n",
       "<tbody>\n",
       "\t<tr><th scope=row>8</th><td>2  </td><td>118</td><td>33 </td></tr>\n",
       "</tbody>\n",
       "</table>\n",
       "</dd>\n",
       "\t<dt>$`49`</dt>\n",
       "\t\t<dd><table>\n",
       "<thead><tr><th></th><th scope=col>Tree</th><th scope=col>age</th><th scope=col>circumference</th></tr></thead>\n",
       "<tbody>\n",
       "\t<tr><th scope=row>30</th><td>5  </td><td>484</td><td>49 </td></tr>\n",
       "</tbody>\n",
       "</table>\n",
       "</dd>\n",
       "\t<dt>$`51`</dt>\n",
       "\t\t<dd><table>\n",
       "<thead><tr><th></th><th scope=col>Tree</th><th scope=col>age</th><th scope=col>circumference</th></tr></thead>\n",
       "<tbody>\n",
       "\t<tr><th scope=row>16</th><td>3  </td><td>484</td><td>51 </td></tr>\n",
       "</tbody>\n",
       "</table>\n",
       "</dd>\n",
       "\t<dt>$`58`</dt>\n",
       "\t\t<dd><table>\n",
       "<thead><tr><th></th><th scope=col>Tree</th><th scope=col>age</th><th scope=col>circumference</th></tr></thead>\n",
       "<tbody>\n",
       "\t<tr><th scope=row>2</th><td>1  </td><td>484</td><td>58 </td></tr>\n",
       "</tbody>\n",
       "</table>\n",
       "</dd>\n",
       "\t<dt>$`62`</dt>\n",
       "\t\t<dd><table>\n",
       "<thead><tr><th></th><th scope=col>Tree</th><th scope=col>age</th><th scope=col>circumference</th></tr></thead>\n",
       "<tbody>\n",
       "\t<tr><th scope=row>23</th><td>4  </td><td>484</td><td>62 </td></tr>\n",
       "</tbody>\n",
       "</table>\n",
       "</dd>\n",
       "\t<dt>$`69`</dt>\n",
       "\t\t<dd><table>\n",
       "<thead><tr><th></th><th scope=col>Tree</th><th scope=col>age</th><th scope=col>circumference</th></tr></thead>\n",
       "<tbody>\n",
       "\t<tr><th scope=row>9</th><td>2  </td><td>484</td><td>69 </td></tr>\n",
       "</tbody>\n",
       "</table>\n",
       "</dd>\n",
       "\t<dt>$`75`</dt>\n",
       "\t\t<dd><table>\n",
       "<thead><tr><th></th><th scope=col>Tree</th><th scope=col>age</th><th scope=col>circumference</th></tr></thead>\n",
       "<tbody>\n",
       "\t<tr><th scope=row>17</th><td>3  </td><td>664</td><td>75 </td></tr>\n",
       "</tbody>\n",
       "</table>\n",
       "</dd>\n",
       "\t<dt>$`81`</dt>\n",
       "\t\t<dd><table>\n",
       "<thead><tr><th></th><th scope=col>Tree</th><th scope=col>age</th><th scope=col>circumference</th></tr></thead>\n",
       "<tbody>\n",
       "\t<tr><th scope=row>31</th><td>5  </td><td>664</td><td>81 </td></tr>\n",
       "</tbody>\n",
       "</table>\n",
       "</dd>\n",
       "\t<dt>$`87`</dt>\n",
       "\t\t<dd><table>\n",
       "<thead><tr><th></th><th scope=col>Tree</th><th scope=col>age</th><th scope=col>circumference</th></tr></thead>\n",
       "<tbody>\n",
       "\t<tr><th scope=row>3</th><td>1  </td><td>664</td><td>87 </td></tr>\n",
       "</tbody>\n",
       "</table>\n",
       "</dd>\n",
       "\t<dt>$`108`</dt>\n",
       "\t\t<dd><table>\n",
       "<thead><tr><th></th><th scope=col>Tree</th><th scope=col>age</th><th scope=col>circumference</th></tr></thead>\n",
       "<tbody>\n",
       "\t<tr><th scope=row>18</th><td>3   </td><td>1004</td><td>108 </td></tr>\n",
       "</tbody>\n",
       "</table>\n",
       "</dd>\n",
       "\t<dt>$`111`</dt>\n",
       "\t\t<dd><table>\n",
       "<thead><tr><th></th><th scope=col>Tree</th><th scope=col>age</th><th scope=col>circumference</th></tr></thead>\n",
       "<tbody>\n",
       "\t<tr><th scope=row>10</th><td>2  </td><td>664</td><td>111</td></tr>\n",
       "</tbody>\n",
       "</table>\n",
       "</dd>\n",
       "\t<dt>$`112`</dt>\n",
       "\t\t<dd><table>\n",
       "<thead><tr><th></th><th scope=col>Tree</th><th scope=col>age</th><th scope=col>circumference</th></tr></thead>\n",
       "<tbody>\n",
       "\t<tr><th scope=row>24</th><td>4  </td><td>664</td><td>112</td></tr>\n",
       "</tbody>\n",
       "</table>\n",
       "</dd>\n",
       "\t<dt>$`115`</dt>\n",
       "\t\t<dd><table>\n",
       "<thead><tr><th></th><th scope=col>Tree</th><th scope=col>age</th><th scope=col>circumference</th></tr></thead>\n",
       "<tbody>\n",
       "\t<tr><th scope=row>4</th><td>1   </td><td>1004</td><td>115 </td></tr>\n",
       "\t<tr><th scope=row>19</th><td>3   </td><td>1231</td><td>115 </td></tr>\n",
       "</tbody>\n",
       "</table>\n",
       "</dd>\n",
       "\t<dt>$`120`</dt>\n",
       "\t\t<dd><table>\n",
       "<thead><tr><th></th><th scope=col>Tree</th><th scope=col>age</th><th scope=col>circumference</th></tr></thead>\n",
       "<tbody>\n",
       "\t<tr><th scope=row>5</th><td>1   </td><td>1231</td><td>120 </td></tr>\n",
       "</tbody>\n",
       "</table>\n",
       "</dd>\n",
       "\t<dt>$`125`</dt>\n",
       "\t\t<dd><table>\n",
       "<thead><tr><th></th><th scope=col>Tree</th><th scope=col>age</th><th scope=col>circumference</th></tr></thead>\n",
       "<tbody>\n",
       "\t<tr><th scope=row>32</th><td>5   </td><td>1004</td><td>125 </td></tr>\n",
       "</tbody>\n",
       "</table>\n",
       "</dd>\n",
       "\t<dt>$`139`</dt>\n",
       "\t\t<dd><table>\n",
       "<thead><tr><th></th><th scope=col>Tree</th><th scope=col>age</th><th scope=col>circumference</th></tr></thead>\n",
       "<tbody>\n",
       "\t<tr><th scope=row>20</th><td>3   </td><td>1372</td><td>139 </td></tr>\n",
       "</tbody>\n",
       "</table>\n",
       "</dd>\n",
       "\t<dt>$`140`</dt>\n",
       "\t\t<dd><table>\n",
       "<thead><tr><th></th><th scope=col>Tree</th><th scope=col>age</th><th scope=col>circumference</th></tr></thead>\n",
       "<tbody>\n",
       "\t<tr><th scope=row>21</th><td>3   </td><td>1582</td><td>140 </td></tr>\n",
       "</tbody>\n",
       "</table>\n",
       "</dd>\n",
       "\t<dt>$`142`</dt>\n",
       "\t\t<dd><table>\n",
       "<thead><tr><th></th><th scope=col>Tree</th><th scope=col>age</th><th scope=col>circumference</th></tr></thead>\n",
       "<tbody>\n",
       "\t<tr><th scope=row>6</th><td>1   </td><td>1372</td><td>142 </td></tr>\n",
       "\t<tr><th scope=row>33</th><td>5   </td><td>1231</td><td>142 </td></tr>\n",
       "</tbody>\n",
       "</table>\n",
       "</dd>\n",
       "\t<dt>$`145`</dt>\n",
       "\t\t<dd><table>\n",
       "<thead><tr><th></th><th scope=col>Tree</th><th scope=col>age</th><th scope=col>circumference</th></tr></thead>\n",
       "<tbody>\n",
       "\t<tr><th scope=row>7</th><td>1   </td><td>1582</td><td>145 </td></tr>\n",
       "</tbody>\n",
       "</table>\n",
       "</dd>\n",
       "\t<dt>$`156`</dt>\n",
       "\t\t<dd><table>\n",
       "<thead><tr><th></th><th scope=col>Tree</th><th scope=col>age</th><th scope=col>circumference</th></tr></thead>\n",
       "<tbody>\n",
       "\t<tr><th scope=row>11</th><td>2   </td><td>1004</td><td>156 </td></tr>\n",
       "</tbody>\n",
       "</table>\n",
       "</dd>\n",
       "\t<dt>$`167`</dt>\n",
       "\t\t<dd><table>\n",
       "<thead><tr><th></th><th scope=col>Tree</th><th scope=col>age</th><th scope=col>circumference</th></tr></thead>\n",
       "<tbody>\n",
       "\t<tr><th scope=row>25</th><td>4   </td><td>1004</td><td>167 </td></tr>\n",
       "</tbody>\n",
       "</table>\n",
       "</dd>\n",
       "\t<dt>$`172`</dt>\n",
       "\t\t<dd><table>\n",
       "<thead><tr><th></th><th scope=col>Tree</th><th scope=col>age</th><th scope=col>circumference</th></tr></thead>\n",
       "<tbody>\n",
       "\t<tr><th scope=row>12</th><td>2   </td><td>1231</td><td>172 </td></tr>\n",
       "</tbody>\n",
       "</table>\n",
       "</dd>\n",
       "\t<dt>$`174`</dt>\n",
       "\t\t<dd><table>\n",
       "<thead><tr><th></th><th scope=col>Tree</th><th scope=col>age</th><th scope=col>circumference</th></tr></thead>\n",
       "<tbody>\n",
       "\t<tr><th scope=row>34</th><td>5   </td><td>1372</td><td>174 </td></tr>\n",
       "</tbody>\n",
       "</table>\n",
       "</dd>\n",
       "\t<dt>$`177`</dt>\n",
       "\t\t<dd><table>\n",
       "<thead><tr><th></th><th scope=col>Tree</th><th scope=col>age</th><th scope=col>circumference</th></tr></thead>\n",
       "<tbody>\n",
       "\t<tr><th scope=row>35</th><td>5   </td><td>1582</td><td>177 </td></tr>\n",
       "</tbody>\n",
       "</table>\n",
       "</dd>\n",
       "\t<dt>$`179`</dt>\n",
       "\t\t<dd><table>\n",
       "<thead><tr><th></th><th scope=col>Tree</th><th scope=col>age</th><th scope=col>circumference</th></tr></thead>\n",
       "<tbody>\n",
       "\t<tr><th scope=row>26</th><td>4   </td><td>1231</td><td>179 </td></tr>\n",
       "</tbody>\n",
       "</table>\n",
       "</dd>\n",
       "\t<dt>$`203`</dt>\n",
       "\t\t<dd><table>\n",
       "<thead><tr><th></th><th scope=col>Tree</th><th scope=col>age</th><th scope=col>circumference</th></tr></thead>\n",
       "<tbody>\n",
       "\t<tr><th scope=row>13</th><td>2   </td><td>1372</td><td>203 </td></tr>\n",
       "\t<tr><th scope=row>14</th><td>2   </td><td>1582</td><td>203 </td></tr>\n",
       "</tbody>\n",
       "</table>\n",
       "</dd>\n",
       "\t<dt>$`209`</dt>\n",
       "\t\t<dd><table>\n",
       "<thead><tr><th></th><th scope=col>Tree</th><th scope=col>age</th><th scope=col>circumference</th></tr></thead>\n",
       "<tbody>\n",
       "\t<tr><th scope=row>27</th><td>4   </td><td>1372</td><td>209 </td></tr>\n",
       "</tbody>\n",
       "</table>\n",
       "</dd>\n",
       "\t<dt>$`214`</dt>\n",
       "\t\t<dd><table>\n",
       "<thead><tr><th></th><th scope=col>Tree</th><th scope=col>age</th><th scope=col>circumference</th></tr></thead>\n",
       "<tbody>\n",
       "\t<tr><th scope=row>28</th><td>4   </td><td>1582</td><td>214 </td></tr>\n",
       "</tbody>\n",
       "</table>\n",
       "</dd>\n",
       "</dl>\n"
      ],
      "text/latex": [
       "\\begin{description}\n",
       "\\item[\\$`30`] \\begin{tabular}{r|lll}\n",
       "  & Tree & age & circumference\\\\\n",
       "\\hline\n",
       "\t1 & 1   & 118 & 30 \\\\\n",
       "\t15 & 3   & 118 & 30 \\\\\n",
       "\t29 & 5   & 118 & 30 \\\\\n",
       "\\end{tabular}\n",
       "\n",
       "\\item[\\$`32`] \\begin{tabular}{r|lll}\n",
       "  & Tree & age & circumference\\\\\n",
       "\\hline\n",
       "\t22 & 4   & 118 & 32 \\\\\n",
       "\\end{tabular}\n",
       "\n",
       "\\item[\\$`33`] \\begin{tabular}{r|lll}\n",
       "  & Tree & age & circumference\\\\\n",
       "\\hline\n",
       "\t8 & 2   & 118 & 33 \\\\\n",
       "\\end{tabular}\n",
       "\n",
       "\\item[\\$`49`] \\begin{tabular}{r|lll}\n",
       "  & Tree & age & circumference\\\\\n",
       "\\hline\n",
       "\t30 & 5   & 484 & 49 \\\\\n",
       "\\end{tabular}\n",
       "\n",
       "\\item[\\$`51`] \\begin{tabular}{r|lll}\n",
       "  & Tree & age & circumference\\\\\n",
       "\\hline\n",
       "\t16 & 3   & 484 & 51 \\\\\n",
       "\\end{tabular}\n",
       "\n",
       "\\item[\\$`58`] \\begin{tabular}{r|lll}\n",
       "  & Tree & age & circumference\\\\\n",
       "\\hline\n",
       "\t2 & 1   & 484 & 58 \\\\\n",
       "\\end{tabular}\n",
       "\n",
       "\\item[\\$`62`] \\begin{tabular}{r|lll}\n",
       "  & Tree & age & circumference\\\\\n",
       "\\hline\n",
       "\t23 & 4   & 484 & 62 \\\\\n",
       "\\end{tabular}\n",
       "\n",
       "\\item[\\$`69`] \\begin{tabular}{r|lll}\n",
       "  & Tree & age & circumference\\\\\n",
       "\\hline\n",
       "\t9 & 2   & 484 & 69 \\\\\n",
       "\\end{tabular}\n",
       "\n",
       "\\item[\\$`75`] \\begin{tabular}{r|lll}\n",
       "  & Tree & age & circumference\\\\\n",
       "\\hline\n",
       "\t17 & 3   & 664 & 75 \\\\\n",
       "\\end{tabular}\n",
       "\n",
       "\\item[\\$`81`] \\begin{tabular}{r|lll}\n",
       "  & Tree & age & circumference\\\\\n",
       "\\hline\n",
       "\t31 & 5   & 664 & 81 \\\\\n",
       "\\end{tabular}\n",
       "\n",
       "\\item[\\$`87`] \\begin{tabular}{r|lll}\n",
       "  & Tree & age & circumference\\\\\n",
       "\\hline\n",
       "\t3 & 1   & 664 & 87 \\\\\n",
       "\\end{tabular}\n",
       "\n",
       "\\item[\\$`108`] \\begin{tabular}{r|lll}\n",
       "  & Tree & age & circumference\\\\\n",
       "\\hline\n",
       "\t18 & 3    & 1004 & 108 \\\\\n",
       "\\end{tabular}\n",
       "\n",
       "\\item[\\$`111`] \\begin{tabular}{r|lll}\n",
       "  & Tree & age & circumference\\\\\n",
       "\\hline\n",
       "\t10 & 2   & 664 & 111\\\\\n",
       "\\end{tabular}\n",
       "\n",
       "\\item[\\$`112`] \\begin{tabular}{r|lll}\n",
       "  & Tree & age & circumference\\\\\n",
       "\\hline\n",
       "\t24 & 4   & 664 & 112\\\\\n",
       "\\end{tabular}\n",
       "\n",
       "\\item[\\$`115`] \\begin{tabular}{r|lll}\n",
       "  & Tree & age & circumference\\\\\n",
       "\\hline\n",
       "\t4 & 1    & 1004 & 115 \\\\\n",
       "\t19 & 3    & 1231 & 115 \\\\\n",
       "\\end{tabular}\n",
       "\n",
       "\\item[\\$`120`] \\begin{tabular}{r|lll}\n",
       "  & Tree & age & circumference\\\\\n",
       "\\hline\n",
       "\t5 & 1    & 1231 & 120 \\\\\n",
       "\\end{tabular}\n",
       "\n",
       "\\item[\\$`125`] \\begin{tabular}{r|lll}\n",
       "  & Tree & age & circumference\\\\\n",
       "\\hline\n",
       "\t32 & 5    & 1004 & 125 \\\\\n",
       "\\end{tabular}\n",
       "\n",
       "\\item[\\$`139`] \\begin{tabular}{r|lll}\n",
       "  & Tree & age & circumference\\\\\n",
       "\\hline\n",
       "\t20 & 3    & 1372 & 139 \\\\\n",
       "\\end{tabular}\n",
       "\n",
       "\\item[\\$`140`] \\begin{tabular}{r|lll}\n",
       "  & Tree & age & circumference\\\\\n",
       "\\hline\n",
       "\t21 & 3    & 1582 & 140 \\\\\n",
       "\\end{tabular}\n",
       "\n",
       "\\item[\\$`142`] \\begin{tabular}{r|lll}\n",
       "  & Tree & age & circumference\\\\\n",
       "\\hline\n",
       "\t6 & 1    & 1372 & 142 \\\\\n",
       "\t33 & 5    & 1231 & 142 \\\\\n",
       "\\end{tabular}\n",
       "\n",
       "\\item[\\$`145`] \\begin{tabular}{r|lll}\n",
       "  & Tree & age & circumference\\\\\n",
       "\\hline\n",
       "\t7 & 1    & 1582 & 145 \\\\\n",
       "\\end{tabular}\n",
       "\n",
       "\\item[\\$`156`] \\begin{tabular}{r|lll}\n",
       "  & Tree & age & circumference\\\\\n",
       "\\hline\n",
       "\t11 & 2    & 1004 & 156 \\\\\n",
       "\\end{tabular}\n",
       "\n",
       "\\item[\\$`167`] \\begin{tabular}{r|lll}\n",
       "  & Tree & age & circumference\\\\\n",
       "\\hline\n",
       "\t25 & 4    & 1004 & 167 \\\\\n",
       "\\end{tabular}\n",
       "\n",
       "\\item[\\$`172`] \\begin{tabular}{r|lll}\n",
       "  & Tree & age & circumference\\\\\n",
       "\\hline\n",
       "\t12 & 2    & 1231 & 172 \\\\\n",
       "\\end{tabular}\n",
       "\n",
       "\\item[\\$`174`] \\begin{tabular}{r|lll}\n",
       "  & Tree & age & circumference\\\\\n",
       "\\hline\n",
       "\t34 & 5    & 1372 & 174 \\\\\n",
       "\\end{tabular}\n",
       "\n",
       "\\item[\\$`177`] \\begin{tabular}{r|lll}\n",
       "  & Tree & age & circumference\\\\\n",
       "\\hline\n",
       "\t35 & 5    & 1582 & 177 \\\\\n",
       "\\end{tabular}\n",
       "\n",
       "\\item[\\$`179`] \\begin{tabular}{r|lll}\n",
       "  & Tree & age & circumference\\\\\n",
       "\\hline\n",
       "\t26 & 4    & 1231 & 179 \\\\\n",
       "\\end{tabular}\n",
       "\n",
       "\\item[\\$`203`] \\begin{tabular}{r|lll}\n",
       "  & Tree & age & circumference\\\\\n",
       "\\hline\n",
       "\t13 & 2    & 1372 & 203 \\\\\n",
       "\t14 & 2    & 1582 & 203 \\\\\n",
       "\\end{tabular}\n",
       "\n",
       "\\item[\\$`209`] \\begin{tabular}{r|lll}\n",
       "  & Tree & age & circumference\\\\\n",
       "\\hline\n",
       "\t27 & 4    & 1372 & 209 \\\\\n",
       "\\end{tabular}\n",
       "\n",
       "\\item[\\$`214`] \\begin{tabular}{r|lll}\n",
       "  & Tree & age & circumference\\\\\n",
       "\\hline\n",
       "\t28 & 4    & 1582 & 214 \\\\\n",
       "\\end{tabular}\n",
       "\n",
       "\\end{description}\n"
      ],
      "text/markdown": [
       "$`30`\n",
       ":   \n",
       "| <!--/--> | Tree | age | circumference |\n",
       "|---|---|---|---|\n",
       "| 1 | 1   | 118 | 30  |\n",
       "| 15 | 3   | 118 | 30  |\n",
       "| 29 | 5   | 118 | 30  |\n",
       "\n",
       "\n",
       "$`32`\n",
       ":   \n",
       "| <!--/--> | Tree | age | circumference |\n",
       "|---|---|---|---|\n",
       "| 22 | 4   | 118 | 32  |\n",
       "\n",
       "\n",
       "$`33`\n",
       ":   \n",
       "| <!--/--> | Tree | age | circumference |\n",
       "|---|---|---|---|\n",
       "| 8 | 2   | 118 | 33  |\n",
       "\n",
       "\n",
       "$`49`\n",
       ":   \n",
       "| <!--/--> | Tree | age | circumference |\n",
       "|---|---|---|---|\n",
       "| 30 | 5   | 484 | 49  |\n",
       "\n",
       "\n",
       "$`51`\n",
       ":   \n",
       "| <!--/--> | Tree | age | circumference |\n",
       "|---|---|---|---|\n",
       "| 16 | 3   | 484 | 51  |\n",
       "\n",
       "\n",
       "$`58`\n",
       ":   \n",
       "| <!--/--> | Tree | age | circumference |\n",
       "|---|---|---|---|\n",
       "| 2 | 1   | 484 | 58  |\n",
       "\n",
       "\n",
       "$`62`\n",
       ":   \n",
       "| <!--/--> | Tree | age | circumference |\n",
       "|---|---|---|---|\n",
       "| 23 | 4   | 484 | 62  |\n",
       "\n",
       "\n",
       "$`69`\n",
       ":   \n",
       "| <!--/--> | Tree | age | circumference |\n",
       "|---|---|---|---|\n",
       "| 9 | 2   | 484 | 69  |\n",
       "\n",
       "\n",
       "$`75`\n",
       ":   \n",
       "| <!--/--> | Tree | age | circumference |\n",
       "|---|---|---|---|\n",
       "| 17 | 3   | 664 | 75  |\n",
       "\n",
       "\n",
       "$`81`\n",
       ":   \n",
       "| <!--/--> | Tree | age | circumference |\n",
       "|---|---|---|---|\n",
       "| 31 | 5   | 664 | 81  |\n",
       "\n",
       "\n",
       "$`87`\n",
       ":   \n",
       "| <!--/--> | Tree | age | circumference |\n",
       "|---|---|---|---|\n",
       "| 3 | 1   | 664 | 87  |\n",
       "\n",
       "\n",
       "$`108`\n",
       ":   \n",
       "| <!--/--> | Tree | age | circumference |\n",
       "|---|---|---|---|\n",
       "| 18 | 3    | 1004 | 108  |\n",
       "\n",
       "\n",
       "$`111`\n",
       ":   \n",
       "| <!--/--> | Tree | age | circumference |\n",
       "|---|---|---|---|\n",
       "| 10 | 2   | 664 | 111 |\n",
       "\n",
       "\n",
       "$`112`\n",
       ":   \n",
       "| <!--/--> | Tree | age | circumference |\n",
       "|---|---|---|---|\n",
       "| 24 | 4   | 664 | 112 |\n",
       "\n",
       "\n",
       "$`115`\n",
       ":   \n",
       "| <!--/--> | Tree | age | circumference |\n",
       "|---|---|---|---|\n",
       "| 4 | 1    | 1004 | 115  |\n",
       "| 19 | 3    | 1231 | 115  |\n",
       "\n",
       "\n",
       "$`120`\n",
       ":   \n",
       "| <!--/--> | Tree | age | circumference |\n",
       "|---|---|---|---|\n",
       "| 5 | 1    | 1231 | 120  |\n",
       "\n",
       "\n",
       "$`125`\n",
       ":   \n",
       "| <!--/--> | Tree | age | circumference |\n",
       "|---|---|---|---|\n",
       "| 32 | 5    | 1004 | 125  |\n",
       "\n",
       "\n",
       "$`139`\n",
       ":   \n",
       "| <!--/--> | Tree | age | circumference |\n",
       "|---|---|---|---|\n",
       "| 20 | 3    | 1372 | 139  |\n",
       "\n",
       "\n",
       "$`140`\n",
       ":   \n",
       "| <!--/--> | Tree | age | circumference |\n",
       "|---|---|---|---|\n",
       "| 21 | 3    | 1582 | 140  |\n",
       "\n",
       "\n",
       "$`142`\n",
       ":   \n",
       "| <!--/--> | Tree | age | circumference |\n",
       "|---|---|---|---|\n",
       "| 6 | 1    | 1372 | 142  |\n",
       "| 33 | 5    | 1231 | 142  |\n",
       "\n",
       "\n",
       "$`145`\n",
       ":   \n",
       "| <!--/--> | Tree | age | circumference |\n",
       "|---|---|---|---|\n",
       "| 7 | 1    | 1582 | 145  |\n",
       "\n",
       "\n",
       "$`156`\n",
       ":   \n",
       "| <!--/--> | Tree | age | circumference |\n",
       "|---|---|---|---|\n",
       "| 11 | 2    | 1004 | 156  |\n",
       "\n",
       "\n",
       "$`167`\n",
       ":   \n",
       "| <!--/--> | Tree | age | circumference |\n",
       "|---|---|---|---|\n",
       "| 25 | 4    | 1004 | 167  |\n",
       "\n",
       "\n",
       "$`172`\n",
       ":   \n",
       "| <!--/--> | Tree | age | circumference |\n",
       "|---|---|---|---|\n",
       "| 12 | 2    | 1231 | 172  |\n",
       "\n",
       "\n",
       "$`174`\n",
       ":   \n",
       "| <!--/--> | Tree | age | circumference |\n",
       "|---|---|---|---|\n",
       "| 34 | 5    | 1372 | 174  |\n",
       "\n",
       "\n",
       "$`177`\n",
       ":   \n",
       "| <!--/--> | Tree | age | circumference |\n",
       "|---|---|---|---|\n",
       "| 35 | 5    | 1582 | 177  |\n",
       "\n",
       "\n",
       "$`179`\n",
       ":   \n",
       "| <!--/--> | Tree | age | circumference |\n",
       "|---|---|---|---|\n",
       "| 26 | 4    | 1231 | 179  |\n",
       "\n",
       "\n",
       "$`203`\n",
       ":   \n",
       "| <!--/--> | Tree | age | circumference |\n",
       "|---|---|---|---|\n",
       "| 13 | 2    | 1372 | 203  |\n",
       "| 14 | 2    | 1582 | 203  |\n",
       "\n",
       "\n",
       "$`209`\n",
       ":   \n",
       "| <!--/--> | Tree | age | circumference |\n",
       "|---|---|---|---|\n",
       "| 27 | 4    | 1372 | 209  |\n",
       "\n",
       "\n",
       "$`214`\n",
       ":   \n",
       "| <!--/--> | Tree | age | circumference |\n",
       "|---|---|---|---|\n",
       "| 28 | 4    | 1582 | 214  |\n",
       "\n",
       "\n",
       "\n",
       "\n"
      ],
      "text/plain": [
       "$`30`\n",
       "   Tree age circumference\n",
       "1     1 118            30\n",
       "15    3 118            30\n",
       "29    5 118            30\n",
       "\n",
       "$`32`\n",
       "   Tree age circumference\n",
       "22    4 118            32\n",
       "\n",
       "$`33`\n",
       "  Tree age circumference\n",
       "8    2 118            33\n",
       "\n",
       "$`49`\n",
       "   Tree age circumference\n",
       "30    5 484            49\n",
       "\n",
       "$`51`\n",
       "   Tree age circumference\n",
       "16    3 484            51\n",
       "\n",
       "$`58`\n",
       "  Tree age circumference\n",
       "2    1 484            58\n",
       "\n",
       "$`62`\n",
       "   Tree age circumference\n",
       "23    4 484            62\n",
       "\n",
       "$`69`\n",
       "  Tree age circumference\n",
       "9    2 484            69\n",
       "\n",
       "$`75`\n",
       "   Tree age circumference\n",
       "17    3 664            75\n",
       "\n",
       "$`81`\n",
       "   Tree age circumference\n",
       "31    5 664            81\n",
       "\n",
       "$`87`\n",
       "  Tree age circumference\n",
       "3    1 664            87\n",
       "\n",
       "$`108`\n",
       "   Tree  age circumference\n",
       "18    3 1004           108\n",
       "\n",
       "$`111`\n",
       "   Tree age circumference\n",
       "10    2 664           111\n",
       "\n",
       "$`112`\n",
       "   Tree age circumference\n",
       "24    4 664           112\n",
       "\n",
       "$`115`\n",
       "   Tree  age circumference\n",
       "4     1 1004           115\n",
       "19    3 1231           115\n",
       "\n",
       "$`120`\n",
       "  Tree  age circumference\n",
       "5    1 1231           120\n",
       "\n",
       "$`125`\n",
       "   Tree  age circumference\n",
       "32    5 1004           125\n",
       "\n",
       "$`139`\n",
       "   Tree  age circumference\n",
       "20    3 1372           139\n",
       "\n",
       "$`140`\n",
       "   Tree  age circumference\n",
       "21    3 1582           140\n",
       "\n",
       "$`142`\n",
       "   Tree  age circumference\n",
       "6     1 1372           142\n",
       "33    5 1231           142\n",
       "\n",
       "$`145`\n",
       "  Tree  age circumference\n",
       "7    1 1582           145\n",
       "\n",
       "$`156`\n",
       "   Tree  age circumference\n",
       "11    2 1004           156\n",
       "\n",
       "$`167`\n",
       "   Tree  age circumference\n",
       "25    4 1004           167\n",
       "\n",
       "$`172`\n",
       "   Tree  age circumference\n",
       "12    2 1231           172\n",
       "\n",
       "$`174`\n",
       "   Tree  age circumference\n",
       "34    5 1372           174\n",
       "\n",
       "$`177`\n",
       "   Tree  age circumference\n",
       "35    5 1582           177\n",
       "\n",
       "$`179`\n",
       "   Tree  age circumference\n",
       "26    4 1231           179\n",
       "\n",
       "$`203`\n",
       "   Tree  age circumference\n",
       "13    2 1372           203\n",
       "14    2 1582           203\n",
       "\n",
       "$`209`\n",
       "   Tree  age circumference\n",
       "27    4 1372           209\n",
       "\n",
       "$`214`\n",
       "   Tree  age circumference\n",
       "28    4 1582           214\n"
      ]
     },
     "metadata": {},
     "output_type": "display_data"
    }
   ],
   "source": [
    "split_data <- split(Orange, Orange$circumference)\n",
    "split_data"
   ]
  },
  {
   "cell_type": "code",
   "execution_count": 53,
   "metadata": {},
   "outputs": [
    {
     "data": {
      "text/html": [
       "<table>\n",
       "<thead><tr><th></th><th scope=col>Tree</th><th scope=col>age</th><th scope=col>circumference</th></tr></thead>\n",
       "<tbody>\n",
       "\t<tr><th scope=row>1</th><td>1  </td><td>118</td><td>30 </td></tr>\n",
       "\t<tr><th scope=row>15</th><td>3  </td><td>118</td><td>30 </td></tr>\n",
       "\t<tr><th scope=row>29</th><td>5  </td><td>118</td><td>30 </td></tr>\n",
       "</tbody>\n",
       "</table>\n"
      ],
      "text/latex": [
       "\\begin{tabular}{r|lll}\n",
       "  & Tree & age & circumference\\\\\n",
       "\\hline\n",
       "\t1 & 1   & 118 & 30 \\\\\n",
       "\t15 & 3   & 118 & 30 \\\\\n",
       "\t29 & 5   & 118 & 30 \\\\\n",
       "\\end{tabular}\n"
      ],
      "text/markdown": [
       "\n",
       "| <!--/--> | Tree | age | circumference |\n",
       "|---|---|---|---|\n",
       "| 1 | 1   | 118 | 30  |\n",
       "| 15 | 3   | 118 | 30  |\n",
       "| 29 | 5   | 118 | 30  |\n",
       "\n"
      ],
      "text/plain": [
       "   Tree age circumference\n",
       "1  1    118 30           \n",
       "15 3    118 30           \n",
       "29 5    118 30           "
      ]
     },
     "metadata": {},
     "output_type": "display_data"
    }
   ],
   "source": [
    "split_data$\"30\""
   ]
  },
  {
   "cell_type": "code",
   "execution_count": 54,
   "metadata": {},
   "outputs": [
    {
     "data": {
      "text/html": [
       "<table>\n",
       "<thead><tr><th></th><th scope=col>Tree</th><th scope=col>age</th><th scope=col>circumference</th></tr></thead>\n",
       "<tbody>\n",
       "\t<tr><th scope=row>17</th><td>3  </td><td>664</td><td>75 </td></tr>\n",
       "</tbody>\n",
       "</table>\n"
      ],
      "text/latex": [
       "\\begin{tabular}{r|lll}\n",
       "  & Tree & age & circumference\\\\\n",
       "\\hline\n",
       "\t17 & 3   & 664 & 75 \\\\\n",
       "\\end{tabular}\n"
      ],
      "text/markdown": [
       "\n",
       "| <!--/--> | Tree | age | circumference |\n",
       "|---|---|---|---|\n",
       "| 17 | 3   | 664 | 75  |\n",
       "\n"
      ],
      "text/plain": [
       "   Tree age circumference\n",
       "17 3    664 75           "
      ]
     },
     "metadata": {},
     "output_type": "display_data"
    }
   ],
   "source": [
    "split_data$\"75\""
   ]
  },
  {
   "cell_type": "code",
   "execution_count": 55,
   "metadata": {},
   "outputs": [
    {
     "data": {
      "text/html": [
       "<dl>\n",
       "\t<dt>$`30`</dt>\n",
       "\t\t<dd><table>\n",
       "<thead><tr><th></th><th scope=col>Tree</th><th scope=col>age</th><th scope=col>circumference</th></tr></thead>\n",
       "<tbody>\n",
       "\t<tr><th scope=row>1</th><td>1  </td><td>118</td><td>30 </td></tr>\n",
       "\t<tr><th scope=row>15</th><td>3  </td><td>118</td><td>30 </td></tr>\n",
       "\t<tr><th scope=row>29</th><td>5  </td><td>118</td><td>30 </td></tr>\n",
       "</tbody>\n",
       "</table>\n",
       "</dd>\n",
       "\t<dt>$`214`</dt>\n",
       "\t\t<dd><table>\n",
       "<thead><tr><th></th><th scope=col>Tree</th><th scope=col>age</th><th scope=col>circumference</th></tr></thead>\n",
       "<tbody>\n",
       "\t<tr><th scope=row>28</th><td>4   </td><td>1582</td><td>214 </td></tr>\n",
       "</tbody>\n",
       "</table>\n",
       "</dd>\n",
       "</dl>\n"
      ],
      "text/latex": [
       "\\begin{description}\n",
       "\\item[\\$`30`] \\begin{tabular}{r|lll}\n",
       "  & Tree & age & circumference\\\\\n",
       "\\hline\n",
       "\t1 & 1   & 118 & 30 \\\\\n",
       "\t15 & 3   & 118 & 30 \\\\\n",
       "\t29 & 5   & 118 & 30 \\\\\n",
       "\\end{tabular}\n",
       "\n",
       "\\item[\\$`214`] \\begin{tabular}{r|lll}\n",
       "  & Tree & age & circumference\\\\\n",
       "\\hline\n",
       "\t28 & 4    & 1582 & 214 \\\\\n",
       "\\end{tabular}\n",
       "\n",
       "\\end{description}\n"
      ],
      "text/markdown": [
       "$`30`\n",
       ":   \n",
       "| <!--/--> | Tree | age | circumference |\n",
       "|---|---|---|---|\n",
       "| 1 | 1   | 118 | 30  |\n",
       "| 15 | 3   | 118 | 30  |\n",
       "| 29 | 5   | 118 | 30  |\n",
       "\n",
       "\n",
       "$`214`\n",
       ":   \n",
       "| <!--/--> | Tree | age | circumference |\n",
       "|---|---|---|---|\n",
       "| 28 | 4    | 1582 | 214  |\n",
       "\n",
       "\n",
       "\n",
       "\n"
      ],
      "text/plain": [
       "$`30`\n",
       "   Tree age circumference\n",
       "1     1 118            30\n",
       "15    3 118            30\n",
       "29    5 118            30\n",
       "\n",
       "$`214`\n",
       "   Tree  age circumference\n",
       "28    4 1582           214\n"
      ]
     },
     "metadata": {},
     "output_type": "display_data"
    }
   ],
   "source": [
    "a <- split_data[c(\"30\",\"214\")]\n",
    "a"
   ]
  },
  {
   "cell_type": "code",
   "execution_count": 56,
   "metadata": {},
   "outputs": [
    {
     "data": {
      "text/html": [
       "<table>\n",
       "<thead><tr><th></th><th scope=col>30</th><th scope=col>214</th></tr></thead>\n",
       "<tbody>\n",
       "\t<tr><th scope=row>age</th><td>118 </td><td>1582</td></tr>\n",
       "\t<tr><th scope=row>circumference</th><td> 30 </td><td> 214</td></tr>\n",
       "</tbody>\n",
       "</table>\n"
      ],
      "text/latex": [
       "\\begin{tabular}{r|ll}\n",
       "  & 30 & 214\\\\\n",
       "\\hline\n",
       "\tage & 118  & 1582\\\\\n",
       "\tcircumference &  30  &  214\\\\\n",
       "\\end{tabular}\n"
      ],
      "text/markdown": [
       "\n",
       "| <!--/--> | 30 | 214 |\n",
       "|---|---|---|\n",
       "| age | 118  | 1582 |\n",
       "| circumference |  30  |  214 |\n",
       "\n"
      ],
      "text/plain": [
       "              30  214 \n",
       "age           118 1582\n",
       "circumference  30  214"
      ]
     },
     "metadata": {},
     "output_type": "display_data"
    }
   ],
   "source": [
    "sapply(a, function(x) colMeans(x[,c(\"age\",\"circumference\")], na.rm = TRUE))"
   ]
  },
  {
   "cell_type": "code",
   "execution_count": 14,
   "metadata": {},
   "outputs": [],
   "source": [
    "#### End solution ####"
   ]
  },
  {
   "cell_type": "markdown",
   "metadata": {},
   "source": [
    "\n",
    "### Save it and push .ipynb and .html file to your Github Repository\n",
    "## GOOD JOB! You have successfully finished the course!"
   ]
  },
  {
   "cell_type": "code",
   "execution_count": null,
   "metadata": {},
   "outputs": [],
   "source": []
  }
 ],
 "metadata": {
  "kernelspec": {
   "display_name": "R",
   "language": "R",
   "name": "ir"
  },
  "language_info": {
   "codemirror_mode": "r",
   "file_extension": ".r",
   "mimetype": "text/x-r-source",
   "name": "R",
   "pygments_lexer": "r",
   "version": "3.6.1"
  }
 },
 "nbformat": 4,
 "nbformat_minor": 4
}
